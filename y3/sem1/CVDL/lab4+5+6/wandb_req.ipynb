{
 "cells": [
  {
   "cell_type": "code",
   "execution_count": null,
   "id": "4ead1f78-b7a8-4889-b8ec-0d136f804678",
   "metadata": {},
   "outputs": [],
   "source": [
    "import wandb\n",
    "import random\n",
    "\n",
    "# start a new wandb run to track this script\n",
    "wandb.init(\n",
    "    # set the wandb project where this run will be logged\n",
    "    project=\"proj_try\",\n",
    "    \n",
    "    # track hyperparameters and run metadata\n",
    "    config={\n",
    "    \"learning_rate\": 0.02,\n",
    "    \"architecture\": \"UNet\n",
    "    \"dataset\": \"CIFAR-100\",\n",
    "    \"epochs\": 10,\n",
    "    }\n",
    ")\n",
    "\n",
    "# simulate training\n",
    "epochs = 10\n",
    "offset = random.random() / 5\n",
    "for epoch in range(2, epochs):\n",
    "    acc = 1 - 2 ** -epoch - random.random() / epoch - offset\n",
    "    loss = 2 ** -epoch + random.random() / epoch + offset\n",
    "    \n",
    "    # log metrics to wandb\n",
    "    wandb.log({\"acc\": acc, \"loss\": loss})\n",
    "    \n",
    "# [optional] finish the wandb run, necessary in notebooks\n",
    "wandb.finish()"
   ]
  },
  {
   "cell_type": "code",
   "execution_count": 2,
   "id": "bc379768-a46c-43b1-a0b8-ed38f78a4399",
   "metadata": {
    "tags": []
   },
   "outputs": [],
   "source": [
    "from PIL import Image\n",
    "import os\n",
    "import torch\n",
    "import hashlib\n",
    "import tarfile\n",
    "import requests\n",
    "import numpy as np\n",
    "from tqdm import tqdm\n",
    "from PIL import Image\n",
    "import torch\n",
    "import torchvision\n",
    "import matplotlib.pyplot as plt\n",
    "from torchvision.transforms import v2\n",
    "import torch.nn as nn\n",
    "import torch.nn.functional as F\n",
    "from torch.utils.data import DataLoader\n",
    "import torch.optim as optim"
   ]
  },
  {
   "cell_type": "code",
   "execution_count": 3,
   "id": "ad21d390-eef3-4721-bdfc-057692c7d81e",
   "metadata": {
    "tags": []
   },
   "outputs": [],
   "source": [
    "class LFWDataset(torch.utils.data.Dataset):\n",
    "    _DATA = (\n",
    "        # images\n",
    "        (\"http://vis-www.cs.umass.edu/lfw/lfw-funneled.tgz\", None),\n",
    "        # segmentation masks as ppm\n",
    "        (\"https://vis-www.cs.umass.edu/lfw/part_labels/parts_lfw_funneled_gt_images.tgz\",\n",
    "         \"3e7e26e801c3081d651c8c2ef3c45cfc\"),\n",
    "    )\n",
    "\n",
    "\n",
    "    def __init__(self, base_folder, transforms, download=True, split_name: str = 'train'):\n",
    "        super().__init__()\n",
    "        self.base_folder = base_folder\n",
    "        # TODO your code here: if necessary download and extract the data\n",
    "        '''\n",
    "        if download:\n",
    "            self.download_resources(base_folder)\n",
    "        self.X = None\n",
    "        self.Y = None\n",
    "        raise NotImplementedError(\"Not implemented yet\")'''\n",
    "        if download:\n",
    "            self.download_resources(base_folder)\n",
    "        self.transforms = transforms\n",
    "        self.split_name = split_name\n",
    "        self.image_folder = os.path.join(base_folder, \"lfw_funneled\")\n",
    "        #print(self.image_folder)\n",
    "        self.mask_folder = os.path.join(base_folder, \"parts_lfw_funneled_gt_images\")\n",
    "        #print(self.mask_folder)\n",
    "        self.image_file_list, self.mask_file_list = self.get_file_lists()\n",
    "        self.indices = self.get_split_indices()\n",
    "            \n",
    "    def get_file_lists(self):\n",
    "        all_image_files = [os.path.join(dp, f) for dp, dn, filenames in os.walk(self.image_folder) for f in filenames if f.endswith('.jpg')]\n",
    "\n",
    "        mask_file_list = [f for f in os.listdir(self.mask_folder) if f.endswith('.ppm')]\n",
    "        mask_file_list = [os.path.join(self.mask_folder, f) for f in mask_file_list if os.path.isfile(os.path.join(self.mask_folder, f))]\n",
    "        \n",
    "        image_mask_file_list = [f.replace('._','').replace('.ppm', '.jpg') for f in os.listdir(self.mask_folder) if f.endswith('.ppm')]\n",
    "        image_mask_file_set = set(image_mask_file_list)\n",
    "        \n",
    "        image_file_list = [f for f in all_image_files if os.path.isfile(f) and f.split(\"\\\\\")[-1] in image_mask_file_set]\n",
    "        #print(all_image_files[0])\n",
    "        #print(image_file_list[0])\n",
    "        \n",
    "        \n",
    "        return image_file_list, mask_file_list\n",
    "\n",
    "    def get_split_indices(self):\n",
    "        num_samples = len(self.image_file_list)\n",
    "        print(num_samples)\n",
    "        if self.split_name == 'train':\n",
    "            return list(range(int(0.8 * num_samples)))\n",
    "        elif self.split_name == 'test':\n",
    "            return list(range(int(0.8 * num_samples), num_samples))\n",
    "        else:\n",
    "            raise ValueError(\"Invalid split_name. Use 'train' or 'test'.\")\n",
    "        \n",
    "    def __len__(self):\n",
    "        return len(self.indices)\n",
    "\n",
    "    def __getitem__(self, idx):\n",
    "        # TODO your code here: return the idx^th sample in the dataset: image, segmentation mask\n",
    "        # TODO your code here: if necessary apply the transforms\n",
    "        # raise NotImplementedError(\"Not implemented yet\")\n",
    "        #print(self.image_file_list)\n",
    "        image_filename = self.image_file_list[idx]\n",
    "        maybe = image_filename.split(\"\\\\\")[-1]\n",
    "        maybe = maybe.replace('.jpg', '.ppm')\n",
    "        #print(maybe)\n",
    "        maybe2 = self.mask_folder + \"\\\\\" + maybe\n",
    "        #print(maybe2)\n",
    "        mask_filename = image_filename.replace('.jpg', '.ppm')\n",
    "        mask_filename = maybe2\n",
    "\n",
    "        #image_path = os.path.join(self.base_folder, image_filename)\n",
    "        image_path = image_filename\n",
    "        #mask_path = os.path.join(self.mask_folder, mask_filename)\n",
    "        #print(mask_filename)\n",
    "        mask_path = mask_filename\n",
    "        #print(mask_path)\n",
    "        \n",
    "        image = Image.open(image_path).convert('RGB')\n",
    "        mask = Image.open(mask_path).convert('L')\n",
    "\n",
    "        if self.transforms is not None:\n",
    "            image = self.transforms(image)\n",
    "            mask = self.transforms(mask)\n",
    "        image = np.array(image)\n",
    "        mask = np.array(mask)\n",
    "        #print(mask)\n",
    "        return image, mask\n",
    "\n",
    "    def download_resources(self, base_folder):\n",
    "        if not os.path.exists(base_folder):\n",
    "            os.makedirs(base_folder)\n",
    "        self._download_and_extract_archive(url=LFWDataset._DATA[1][0], base_folder=base_folder,\n",
    "                                           md5=LFWDataset._DATA[1][1])\n",
    "        self._download_and_extract_archive(url=LFWDataset._DATA[0][0], base_folder=base_folder, md5=None)\n",
    "\n",
    "    def _download_and_extract_archive(self, url, base_folder, md5) -> None:\n",
    "        \"\"\"\n",
    "          Downloads an archive file from a given URL, saves it to the specified base folder,\n",
    "          and then extracts its contents to the base folder.\n",
    "\n",
    "          Args:\n",
    "          - url (str): The URL from which the archive file needs to be downloaded.\n",
    "          - base_folder (str): The path where the downloaded archive file will be saved and extracted.\n",
    "          - md5 (str): The MD5 checksum of the expected archive file for validation.\n",
    "          \"\"\"\n",
    "        base_folder = os.path.expanduser(base_folder)\n",
    "        filename = os.path.basename(url)\n",
    "\n",
    "        self._download_url(url, base_folder, md5)\n",
    "        archive = os.path.join(base_folder, filename)\n",
    "        print(f\"Extracting {archive} to {base_folder}\")\n",
    "        self._extract_tar_archive(archive, base_folder, True)\n",
    "\n",
    "    def _retreive(self, url, save_location, chunk_size: int = 1024 * 32) -> None:\n",
    "        \"\"\"\n",
    "            Downloads a file from a given URL and saves it to the specified location.\n",
    "\n",
    "            Args:\n",
    "            - url (str): The URL from which the file needs to be downloaded.\n",
    "            - save_location (str): The path where the downloaded file will be saved.\n",
    "            - chunk_size (int, optional): The size of each chunk of data to be downloaded. Defaults to 32 KB.\n",
    "            \"\"\"\n",
    "        try:\n",
    "            response = requests.get(url, stream=True)\n",
    "            total_size = int(response.headers.get('content-length', 0))\n",
    "\n",
    "            with open(save_location, 'wb') as file, tqdm(\n",
    "                    desc=os.path.basename(save_location),\n",
    "                    total=total_size,\n",
    "                    unit='B',\n",
    "                    unit_scale=True,\n",
    "                    unit_divisor=1024,\n",
    "            ) as bar:\n",
    "                for data in response.iter_content(chunk_size=chunk_size):\n",
    "                    file.write(data)\n",
    "                    bar.update(len(data))\n",
    "\n",
    "            print(f\"Download successful. File saved to: {save_location}\")\n",
    "\n",
    "        except Exception as e:\n",
    "            print(f\"An error occurred: {str(e)}\")\n",
    "\n",
    "    def _download_url(self, url: str, base_folder: str, md5: str = None) -> None:\n",
    "        \"\"\"Downloads the file from the url to the specified folder\n",
    "\n",
    "        Args:\n",
    "            url (str): URL to download file from\n",
    "            base_folder (str): Directory to place downloaded file in\n",
    "            md5 (str, optional): MD5 checksum of the download. If None, do not check\n",
    "        \"\"\"\n",
    "        base_folder = os.path.expanduser(base_folder)\n",
    "        filename = os.path.basename(url)\n",
    "        file_path = os.path.join(base_folder, filename)\n",
    "\n",
    "        os.makedirs(base_folder, exist_ok=True)\n",
    "\n",
    "        # check if the file already exists\n",
    "        if self._check_file(file_path, md5):\n",
    "            print(f\"File {file_path} already exists. Using that version\")\n",
    "            return\n",
    "\n",
    "        print(f\"Downloading {url} to file_path\")\n",
    "        self._retreive(url, file_path)\n",
    "\n",
    "        # check integrity of downloaded file\n",
    "        if not self._check_file(file_path, md5):\n",
    "            raise RuntimeError(\"File not found or corrupted.\")\n",
    "\n",
    "    def _extract_tar_archive(self, from_path: str, to_path: str = None, remove_finished: bool = False) -> str:\n",
    "        \"\"\"Extract a tar archive.\n",
    "\n",
    "        Args:\n",
    "            from_path (str): Path to the file to be extracted.\n",
    "            to_path (str): Path to the directory the file will be extracted to. If omitted, the directory of the file is\n",
    "                used.\n",
    "            remove_finished (bool): If True , remove the file after the extraction.\n",
    "        Returns:\n",
    "            (str): Path to the directory the file was extracted to.\n",
    "        \"\"\"\n",
    "        if to_path is None:\n",
    "            to_path = os.path.dirname(from_path)\n",
    "\n",
    "        with tarfile.open(from_path, \"r\") as tar:\n",
    "            tar.extractall(to_path)\n",
    "\n",
    "        if remove_finished:\n",
    "            os.remove(from_path)\n",
    "\n",
    "        return to_path\n",
    "\n",
    "    def _compute_md5(self, filepath: str, chunk_size: int = 1024 * 1024) -> str:\n",
    "        with open(filepath, \"rb\") as f:\n",
    "            md5 = hashlib.md5()\n",
    "            while chunk := f.read(chunk_size):\n",
    "                md5.update(chunk)\n",
    "        return md5.hexdigest()\n",
    "\n",
    "    def _check_file(self, filepath: str, md5: str) -> bool:\n",
    "        if not os.path.isfile(filepath):\n",
    "            return False\n",
    "        if md5 is None:\n",
    "            return True\n",
    "        return self._compute_md5(filepath) == md5"
   ]
  },
  {
   "cell_type": "code",
   "execution_count": 4,
   "id": "9fef19b8-5269-4538-aa6d-dadc50162440",
   "metadata": {
    "tags": []
   },
   "outputs": [
    {
     "name": "stdout",
     "output_type": "stream",
     "text": [
      "2927\n",
      "2927\n",
      "2341\n",
      "586\n"
     ]
    }
   ],
   "source": [
    "transform=None\n",
    "# Create train and test datasets\n",
    "train_dataset = LFWDataset(base_folder='..\\cvdl_lab_4\\lfw_dataset', transforms=transform, download=False, split_name='train')\n",
    "test_dataset = LFWDataset(base_folder='..\\cvdl_lab_4\\lfw_dataset', transforms=transform, download=False, split_name='test')\n",
    "\n",
    "print(len(train_dataset))\n",
    "print(len(test_dataset))\n",
    "\n",
    "# Create data loaders\n",
    "train_loader = DataLoader(train_dataset, batch_size=4, shuffle=True)\n",
    "test_loader = DataLoader(test_dataset, batch_size=4, shuffle=False)"
   ]
  },
  {
   "cell_type": "code",
   "execution_count": 5,
   "id": "d6e82082-2953-4cfe-bb24-fc9843b6297d",
   "metadata": {
    "tags": []
   },
   "outputs": [],
   "source": [
    "class UNet2(nn.Module):\n",
    "    def __init__(self, in_channels, out_channels):\n",
    "        super(UNet2, self).__init__()\n",
    "\n",
    "        # Encoder\n",
    "        self.enc_11 = nn.Conv2d(in_channels, 64, kernel_size=3, padding=1)\n",
    "        self.enc_12 = nn.Conv2d(64, 64, kernel_size=3, padding=1)\n",
    "        self.pool1 = nn.MaxPool2d(kernel_size=2, stride=2)\n",
    "\n",
    "        # Decoder\n",
    "        self.dec_21 = nn.Conv2d(64, 64, kernel_size=3, padding=1)\n",
    "        self.dec_22 = nn.Conv2d(64, 64, kernel_size=3, padding=1)\n",
    "        self.upconv1 = nn.ConvTranspose2d(64, out_channels, kernel_size=2, stride=2)\n",
    "\n",
    "    def forward(self, x):\n",
    "        # Encoder\n",
    "        x1 = F.relu(self.enc_11(x))\n",
    "        x2 = F.relu(self.enc_12(x1))\n",
    "        x = self.pool1(x2)\n",
    "\n",
    "        # Decoder\n",
    "        x = F.relu(self.dec_21(x))\n",
    "        x = F.relu(self.dec_22(x))\n",
    "        x = self.upconv1(x)\n",
    "\n",
    "        return x"
   ]
  },
  {
   "cell_type": "code",
   "execution_count": 6,
   "id": "e6925ad4-6606-4ac1-a18f-c1e3dae09d47",
   "metadata": {
    "tags": []
   },
   "outputs": [
    {
     "name": "stderr",
     "output_type": "stream",
     "text": [
      "Epoch 1/50: 100%|████████████████████████████████████████████████████████████████████| 586/586 [16:12<00:00,  1.66s/it]\n"
     ]
    },
    {
     "name": "stdout",
     "output_type": "stream",
     "text": [
      "Epoch 1/50, Loss: 0.6202\n"
     ]
    },
    {
     "name": "stderr",
     "output_type": "stream",
     "text": [
      "Validation: 100%|████████████████████████████████████████████████████████████████████| 147/147 [01:07<00:00,  2.17it/s]\n"
     ]
    },
    {
     "name": "stdout",
     "output_type": "stream",
     "text": [
      "Validation Accuracy: 0.8018\n"
     ]
    },
    {
     "name": "stderr",
     "output_type": "stream",
     "text": [
      "Epoch 2/50: 100%|████████████████████████████████████████████████████████████████████| 586/586 [16:02<00:00,  1.64s/it]\n"
     ]
    },
    {
     "name": "stdout",
     "output_type": "stream",
     "text": [
      "Epoch 2/50, Loss: 0.5394\n"
     ]
    },
    {
     "name": "stderr",
     "output_type": "stream",
     "text": [
      "Validation: 100%|████████████████████████████████████████████████████████████████████| 147/147 [01:04<00:00,  2.29it/s]\n"
     ]
    },
    {
     "name": "stdout",
     "output_type": "stream",
     "text": [
      "Validation Accuracy: 0.8087\n"
     ]
    },
    {
     "name": "stderr",
     "output_type": "stream",
     "text": [
      "Epoch 3/50: 100%|████████████████████████████████████████████████████████████████████| 586/586 [11:20<00:00,  1.16s/it]\n"
     ]
    },
    {
     "name": "stdout",
     "output_type": "stream",
     "text": [
      "Epoch 3/50, Loss: 0.5023\n"
     ]
    },
    {
     "name": "stderr",
     "output_type": "stream",
     "text": [
      "Validation: 100%|████████████████████████████████████████████████████████████████████| 147/147 [00:56<00:00,  2.60it/s]\n"
     ]
    },
    {
     "name": "stdout",
     "output_type": "stream",
     "text": [
      "Validation Accuracy: 0.8219\n"
     ]
    },
    {
     "name": "stderr",
     "output_type": "stream",
     "text": [
      "Epoch 4/50: 100%|████████████████████████████████████████████████████████████████████| 586/586 [12:20<00:00,  1.26s/it]\n"
     ]
    },
    {
     "name": "stdout",
     "output_type": "stream",
     "text": [
      "Epoch 4/50, Loss: 0.4803\n"
     ]
    },
    {
     "name": "stderr",
     "output_type": "stream",
     "text": [
      "Validation: 100%|████████████████████████████████████████████████████████████████████| 147/147 [00:51<00:00,  2.88it/s]\n"
     ]
    },
    {
     "name": "stdout",
     "output_type": "stream",
     "text": [
      "Validation Accuracy: 0.8325\n"
     ]
    },
    {
     "name": "stderr",
     "output_type": "stream",
     "text": [
      "Epoch 5/50: 100%|████████████████████████████████████████████████████████████████████| 586/586 [08:14<00:00,  1.19it/s]\n"
     ]
    },
    {
     "name": "stdout",
     "output_type": "stream",
     "text": [
      "Epoch 5/50, Loss: 0.4634\n"
     ]
    },
    {
     "name": "stderr",
     "output_type": "stream",
     "text": [
      "Validation: 100%|████████████████████████████████████████████████████████████████████| 147/147 [00:25<00:00,  5.71it/s]\n"
     ]
    },
    {
     "name": "stdout",
     "output_type": "stream",
     "text": [
      "Validation Accuracy: 0.8259\n"
     ]
    },
    {
     "name": "stderr",
     "output_type": "stream",
     "text": [
      "Epoch 6/50: 100%|████████████████████████████████████████████████████████████████████| 586/586 [06:30<00:00,  1.50it/s]\n"
     ]
    },
    {
     "name": "stdout",
     "output_type": "stream",
     "text": [
      "Epoch 6/50, Loss: 0.4518\n"
     ]
    },
    {
     "name": "stderr",
     "output_type": "stream",
     "text": [
      "Validation: 100%|████████████████████████████████████████████████████████████████████| 147/147 [00:27<00:00,  5.36it/s]\n"
     ]
    },
    {
     "name": "stdout",
     "output_type": "stream",
     "text": [
      "Validation Accuracy: 0.8281\n"
     ]
    },
    {
     "name": "stderr",
     "output_type": "stream",
     "text": [
      "Epoch 7/50: 100%|████████████████████████████████████████████████████████████████████| 586/586 [06:18<00:00,  1.55it/s]\n"
     ]
    },
    {
     "name": "stdout",
     "output_type": "stream",
     "text": [
      "Epoch 7/50, Loss: 0.4443\n"
     ]
    },
    {
     "name": "stderr",
     "output_type": "stream",
     "text": [
      "Validation: 100%|████████████████████████████████████████████████████████████████████| 147/147 [00:25<00:00,  5.81it/s]\n"
     ]
    },
    {
     "name": "stdout",
     "output_type": "stream",
     "text": [
      "Validation Accuracy: 0.8386\n"
     ]
    },
    {
     "name": "stderr",
     "output_type": "stream",
     "text": [
      "Epoch 8/50: 100%|████████████████████████████████████████████████████████████████████| 586/586 [06:30<00:00,  1.50it/s]\n"
     ]
    },
    {
     "name": "stdout",
     "output_type": "stream",
     "text": [
      "Epoch 8/50, Loss: 0.4413\n"
     ]
    },
    {
     "name": "stderr",
     "output_type": "stream",
     "text": [
      "Validation: 100%|████████████████████████████████████████████████████████████████████| 147/147 [00:25<00:00,  5.80it/s]\n"
     ]
    },
    {
     "name": "stdout",
     "output_type": "stream",
     "text": [
      "Validation Accuracy: 0.8352\n"
     ]
    },
    {
     "name": "stderr",
     "output_type": "stream",
     "text": [
      "Epoch 9/50: 100%|████████████████████████████████████████████████████████████████████| 586/586 [06:48<00:00,  1.43it/s]\n"
     ]
    },
    {
     "name": "stdout",
     "output_type": "stream",
     "text": [
      "Epoch 9/50, Loss: 0.4405\n"
     ]
    },
    {
     "name": "stderr",
     "output_type": "stream",
     "text": [
      "Validation: 100%|████████████████████████████████████████████████████████████████████| 147/147 [00:27<00:00,  5.29it/s]\n"
     ]
    },
    {
     "name": "stdout",
     "output_type": "stream",
     "text": [
      "Validation Accuracy: 0.8371\n"
     ]
    },
    {
     "name": "stderr",
     "output_type": "stream",
     "text": [
      "Epoch 10/50: 100%|███████████████████████████████████████████████████████████████████| 586/586 [06:24<00:00,  1.52it/s]\n"
     ]
    },
    {
     "name": "stdout",
     "output_type": "stream",
     "text": [
      "Epoch 10/50, Loss: 0.4335\n"
     ]
    },
    {
     "name": "stderr",
     "output_type": "stream",
     "text": [
      "Validation: 100%|████████████████████████████████████████████████████████████████████| 147/147 [00:26<00:00,  5.57it/s]\n"
     ]
    },
    {
     "name": "stdout",
     "output_type": "stream",
     "text": [
      "Validation Accuracy: 0.8404\n"
     ]
    },
    {
     "name": "stderr",
     "output_type": "stream",
     "text": [
      "Epoch 11/50: 100%|███████████████████████████████████████████████████████████████████| 586/586 [06:23<00:00,  1.53it/s]\n"
     ]
    },
    {
     "name": "stdout",
     "output_type": "stream",
     "text": [
      "Epoch 11/50, Loss: 0.4274\n"
     ]
    },
    {
     "name": "stderr",
     "output_type": "stream",
     "text": [
      "Validation: 100%|████████████████████████████████████████████████████████████████████| 147/147 [00:25<00:00,  5.76it/s]\n"
     ]
    },
    {
     "name": "stdout",
     "output_type": "stream",
     "text": [
      "Validation Accuracy: 0.8395\n"
     ]
    },
    {
     "name": "stderr",
     "output_type": "stream",
     "text": [
      "Epoch 12/50: 100%|███████████████████████████████████████████████████████████████████| 586/586 [07:23<00:00,  1.32it/s]\n"
     ]
    },
    {
     "name": "stdout",
     "output_type": "stream",
     "text": [
      "Epoch 12/50, Loss: 0.4249\n"
     ]
    },
    {
     "name": "stderr",
     "output_type": "stream",
     "text": [
      "Validation: 100%|████████████████████████████████████████████████████████████████████| 147/147 [00:33<00:00,  4.38it/s]\n"
     ]
    },
    {
     "name": "stdout",
     "output_type": "stream",
     "text": [
      "Validation Accuracy: 0.8446\n"
     ]
    },
    {
     "name": "stderr",
     "output_type": "stream",
     "text": [
      "Epoch 13/50: 100%|███████████████████████████████████████████████████████████████████| 586/586 [08:17<00:00,  1.18it/s]\n"
     ]
    },
    {
     "name": "stdout",
     "output_type": "stream",
     "text": [
      "Epoch 13/50, Loss: 0.4229\n"
     ]
    },
    {
     "name": "stderr",
     "output_type": "stream",
     "text": [
      "Validation: 100%|████████████████████████████████████████████████████████████████████| 147/147 [00:34<00:00,  4.25it/s]\n"
     ]
    },
    {
     "name": "stdout",
     "output_type": "stream",
     "text": [
      "Validation Accuracy: 0.8475\n"
     ]
    },
    {
     "name": "stderr",
     "output_type": "stream",
     "text": [
      "Epoch 14/50: 100%|███████████████████████████████████████████████████████████████████| 586/586 [08:22<00:00,  1.17it/s]\n"
     ]
    },
    {
     "name": "stdout",
     "output_type": "stream",
     "text": [
      "Epoch 14/50, Loss: 0.4204\n"
     ]
    },
    {
     "name": "stderr",
     "output_type": "stream",
     "text": [
      "Validation: 100%|████████████████████████████████████████████████████████████████████| 147/147 [00:34<00:00,  4.32it/s]\n"
     ]
    },
    {
     "name": "stdout",
     "output_type": "stream",
     "text": [
      "Validation Accuracy: 0.8295\n"
     ]
    },
    {
     "name": "stderr",
     "output_type": "stream",
     "text": [
      "Epoch 15/50: 100%|███████████████████████████████████████████████████████████████████| 586/586 [08:17<00:00,  1.18it/s]\n"
     ]
    },
    {
     "name": "stdout",
     "output_type": "stream",
     "text": [
      "Epoch 15/50, Loss: 0.4188\n"
     ]
    },
    {
     "name": "stderr",
     "output_type": "stream",
     "text": [
      "Validation: 100%|████████████████████████████████████████████████████████████████████| 147/147 [00:37<00:00,  3.87it/s]\n"
     ]
    },
    {
     "name": "stdout",
     "output_type": "stream",
     "text": [
      "Validation Accuracy: 0.8426\n"
     ]
    },
    {
     "name": "stderr",
     "output_type": "stream",
     "text": [
      "Epoch 16/50: 100%|███████████████████████████████████████████████████████████████████| 586/586 [08:20<00:00,  1.17it/s]\n"
     ]
    },
    {
     "name": "stdout",
     "output_type": "stream",
     "text": [
      "Epoch 16/50, Loss: 0.4149\n"
     ]
    },
    {
     "name": "stderr",
     "output_type": "stream",
     "text": [
      "Validation: 100%|████████████████████████████████████████████████████████████████████| 147/147 [00:35<00:00,  4.09it/s]\n"
     ]
    },
    {
     "name": "stdout",
     "output_type": "stream",
     "text": [
      "Validation Accuracy: 0.8419\n"
     ]
    },
    {
     "name": "stderr",
     "output_type": "stream",
     "text": [
      "Epoch 17/50: 100%|███████████████████████████████████████████████████████████████████| 586/586 [07:40<00:00,  1.27it/s]\n"
     ]
    },
    {
     "name": "stdout",
     "output_type": "stream",
     "text": [
      "Epoch 17/50, Loss: 0.4145\n"
     ]
    },
    {
     "name": "stderr",
     "output_type": "stream",
     "text": [
      "Validation: 100%|████████████████████████████████████████████████████████████████████| 147/147 [00:33<00:00,  4.43it/s]\n"
     ]
    },
    {
     "name": "stdout",
     "output_type": "stream",
     "text": [
      "Validation Accuracy: 0.8368\n"
     ]
    },
    {
     "name": "stderr",
     "output_type": "stream",
     "text": [
      "Epoch 18/50: 100%|███████████████████████████████████████████████████████████████████| 586/586 [07:21<00:00,  1.33it/s]\n"
     ]
    },
    {
     "name": "stdout",
     "output_type": "stream",
     "text": [
      "Epoch 18/50, Loss: 0.4136\n"
     ]
    },
    {
     "name": "stderr",
     "output_type": "stream",
     "text": [
      "Validation: 100%|████████████████████████████████████████████████████████████████████| 147/147 [00:29<00:00,  4.95it/s]\n"
     ]
    },
    {
     "name": "stdout",
     "output_type": "stream",
     "text": [
      "Validation Accuracy: 0.8470\n"
     ]
    },
    {
     "name": "stderr",
     "output_type": "stream",
     "text": [
      "Epoch 19/50: 100%|███████████████████████████████████████████████████████████████████| 586/586 [07:15<00:00,  1.35it/s]\n"
     ]
    },
    {
     "name": "stdout",
     "output_type": "stream",
     "text": [
      "Epoch 19/50, Loss: 0.4094\n"
     ]
    },
    {
     "name": "stderr",
     "output_type": "stream",
     "text": [
      "Validation: 100%|████████████████████████████████████████████████████████████████████| 147/147 [00:30<00:00,  4.77it/s]\n"
     ]
    },
    {
     "name": "stdout",
     "output_type": "stream",
     "text": [
      "Validation Accuracy: 0.8402\n"
     ]
    },
    {
     "name": "stderr",
     "output_type": "stream",
     "text": [
      "Epoch 20/50: 100%|███████████████████████████████████████████████████████████████████| 586/586 [07:20<00:00,  1.33it/s]\n"
     ]
    },
    {
     "name": "stdout",
     "output_type": "stream",
     "text": [
      "Epoch 20/50, Loss: 0.4122\n"
     ]
    },
    {
     "name": "stderr",
     "output_type": "stream",
     "text": [
      "Validation: 100%|████████████████████████████████████████████████████████████████████| 147/147 [00:30<00:00,  4.82it/s]\n"
     ]
    },
    {
     "name": "stdout",
     "output_type": "stream",
     "text": [
      "Validation Accuracy: 0.8447\n"
     ]
    },
    {
     "name": "stderr",
     "output_type": "stream",
     "text": [
      "Epoch 21/50: 100%|███████████████████████████████████████████████████████████████████| 586/586 [07:16<00:00,  1.34it/s]\n"
     ]
    },
    {
     "name": "stdout",
     "output_type": "stream",
     "text": [
      "Epoch 21/50, Loss: 0.4085\n"
     ]
    },
    {
     "name": "stderr",
     "output_type": "stream",
     "text": [
      "Validation: 100%|████████████████████████████████████████████████████████████████████| 147/147 [00:31<00:00,  4.72it/s]\n"
     ]
    },
    {
     "name": "stdout",
     "output_type": "stream",
     "text": [
      "Validation Accuracy: 0.8483\n"
     ]
    },
    {
     "name": "stderr",
     "output_type": "stream",
     "text": [
      "Epoch 22/50: 100%|███████████████████████████████████████████████████████████████████| 586/586 [07:28<00:00,  1.31it/s]\n"
     ]
    },
    {
     "name": "stdout",
     "output_type": "stream",
     "text": [
      "Epoch 22/50, Loss: 0.4062\n"
     ]
    },
    {
     "name": "stderr",
     "output_type": "stream",
     "text": [
      "Validation: 100%|████████████████████████████████████████████████████████████████████| 147/147 [00:33<00:00,  4.43it/s]\n"
     ]
    },
    {
     "name": "stdout",
     "output_type": "stream",
     "text": [
      "Validation Accuracy: 0.8468\n"
     ]
    },
    {
     "name": "stderr",
     "output_type": "stream",
     "text": [
      "Epoch 23/50: 100%|███████████████████████████████████████████████████████████████████| 586/586 [07:18<00:00,  1.34it/s]\n"
     ]
    },
    {
     "name": "stdout",
     "output_type": "stream",
     "text": [
      "Epoch 23/50, Loss: 0.4086\n"
     ]
    },
    {
     "name": "stderr",
     "output_type": "stream",
     "text": [
      "Validation: 100%|████████████████████████████████████████████████████████████████████| 147/147 [00:33<00:00,  4.36it/s]\n"
     ]
    },
    {
     "name": "stdout",
     "output_type": "stream",
     "text": [
      "Validation Accuracy: 0.8474\n"
     ]
    },
    {
     "name": "stderr",
     "output_type": "stream",
     "text": [
      "Epoch 24/50: 100%|███████████████████████████████████████████████████████████████████| 586/586 [07:26<00:00,  1.31it/s]\n"
     ]
    },
    {
     "name": "stdout",
     "output_type": "stream",
     "text": [
      "Epoch 24/50, Loss: 0.4100\n"
     ]
    },
    {
     "name": "stderr",
     "output_type": "stream",
     "text": [
      "Validation: 100%|████████████████████████████████████████████████████████████████████| 147/147 [00:33<00:00,  4.39it/s]\n"
     ]
    },
    {
     "name": "stdout",
     "output_type": "stream",
     "text": [
      "Validation Accuracy: 0.8455\n"
     ]
    },
    {
     "name": "stderr",
     "output_type": "stream",
     "text": [
      "Epoch 25/50: 100%|███████████████████████████████████████████████████████████████████| 586/586 [07:29<00:00,  1.30it/s]\n"
     ]
    },
    {
     "name": "stdout",
     "output_type": "stream",
     "text": [
      "Epoch 25/50, Loss: 0.4062\n"
     ]
    },
    {
     "name": "stderr",
     "output_type": "stream",
     "text": [
      "Validation: 100%|████████████████████████████████████████████████████████████████████| 147/147 [00:31<00:00,  4.71it/s]\n"
     ]
    },
    {
     "name": "stdout",
     "output_type": "stream",
     "text": [
      "Validation Accuracy: 0.8440\n"
     ]
    },
    {
     "name": "stderr",
     "output_type": "stream",
     "text": [
      "Epoch 26/50: 100%|███████████████████████████████████████████████████████████████████| 586/586 [07:24<00:00,  1.32it/s]\n"
     ]
    },
    {
     "name": "stdout",
     "output_type": "stream",
     "text": [
      "Epoch 26/50, Loss: 0.4032\n"
     ]
    },
    {
     "name": "stderr",
     "output_type": "stream",
     "text": [
      "Validation: 100%|████████████████████████████████████████████████████████████████████| 147/147 [00:32<00:00,  4.57it/s]\n"
     ]
    },
    {
     "name": "stdout",
     "output_type": "stream",
     "text": [
      "Validation Accuracy: 0.8486\n"
     ]
    },
    {
     "name": "stderr",
     "output_type": "stream",
     "text": [
      "Epoch 27/50: 100%|███████████████████████████████████████████████████████████████████| 586/586 [07:29<00:00,  1.31it/s]\n"
     ]
    },
    {
     "name": "stdout",
     "output_type": "stream",
     "text": [
      "Epoch 27/50, Loss: 0.4019\n"
     ]
    },
    {
     "name": "stderr",
     "output_type": "stream",
     "text": [
      "Validation: 100%|████████████████████████████████████████████████████████████████████| 147/147 [00:31<00:00,  4.72it/s]\n"
     ]
    },
    {
     "name": "stdout",
     "output_type": "stream",
     "text": [
      "Validation Accuracy: 0.8520\n"
     ]
    },
    {
     "name": "stderr",
     "output_type": "stream",
     "text": [
      "Epoch 28/50: 100%|███████████████████████████████████████████████████████████████████| 586/586 [07:28<00:00,  1.31it/s]\n"
     ]
    },
    {
     "name": "stdout",
     "output_type": "stream",
     "text": [
      "Epoch 28/50, Loss: 0.4018\n"
     ]
    },
    {
     "name": "stderr",
     "output_type": "stream",
     "text": [
      "Validation: 100%|████████████████████████████████████████████████████████████████████| 147/147 [00:32<00:00,  4.46it/s]\n"
     ]
    },
    {
     "name": "stdout",
     "output_type": "stream",
     "text": [
      "Validation Accuracy: 0.8548\n"
     ]
    },
    {
     "name": "stderr",
     "output_type": "stream",
     "text": [
      "Epoch 29/50: 100%|███████████████████████████████████████████████████████████████████| 586/586 [07:28<00:00,  1.31it/s]\n"
     ]
    },
    {
     "name": "stdout",
     "output_type": "stream",
     "text": [
      "Epoch 29/50, Loss: 0.4011\n"
     ]
    },
    {
     "name": "stderr",
     "output_type": "stream",
     "text": [
      "Validation: 100%|████████████████████████████████████████████████████████████████████| 147/147 [00:31<00:00,  4.73it/s]\n"
     ]
    },
    {
     "name": "stdout",
     "output_type": "stream",
     "text": [
      "Validation Accuracy: 0.8523\n"
     ]
    },
    {
     "name": "stderr",
     "output_type": "stream",
     "text": [
      "Epoch 30/50: 100%|███████████████████████████████████████████████████████████████████| 586/586 [07:28<00:00,  1.31it/s]\n"
     ]
    },
    {
     "name": "stdout",
     "output_type": "stream",
     "text": [
      "Epoch 30/50, Loss: 0.3967\n"
     ]
    },
    {
     "name": "stderr",
     "output_type": "stream",
     "text": [
      "Validation: 100%|████████████████████████████████████████████████████████████████████| 147/147 [00:30<00:00,  4.83it/s]\n"
     ]
    },
    {
     "name": "stdout",
     "output_type": "stream",
     "text": [
      "Validation Accuracy: 0.8442\n"
     ]
    },
    {
     "name": "stderr",
     "output_type": "stream",
     "text": [
      "Epoch 31/50: 100%|███████████████████████████████████████████████████████████████████| 586/586 [07:44<00:00,  1.26it/s]\n"
     ]
    },
    {
     "name": "stdout",
     "output_type": "stream",
     "text": [
      "Epoch 31/50, Loss: 0.3995\n"
     ]
    },
    {
     "name": "stderr",
     "output_type": "stream",
     "text": [
      "Validation: 100%|████████████████████████████████████████████████████████████████████| 147/147 [00:34<00:00,  4.26it/s]\n"
     ]
    },
    {
     "name": "stdout",
     "output_type": "stream",
     "text": [
      "Validation Accuracy: 0.8461\n"
     ]
    },
    {
     "name": "stderr",
     "output_type": "stream",
     "text": [
      "Epoch 32/50: 100%|███████████████████████████████████████████████████████████████████| 586/586 [07:47<00:00,  1.25it/s]\n"
     ]
    },
    {
     "name": "stdout",
     "output_type": "stream",
     "text": [
      "Epoch 32/50, Loss: 0.3985\n"
     ]
    },
    {
     "name": "stderr",
     "output_type": "stream",
     "text": [
      "Validation: 100%|████████████████████████████████████████████████████████████████████| 147/147 [00:31<00:00,  4.70it/s]\n"
     ]
    },
    {
     "name": "stdout",
     "output_type": "stream",
     "text": [
      "Validation Accuracy: 0.8533\n"
     ]
    },
    {
     "name": "stderr",
     "output_type": "stream",
     "text": [
      "Epoch 33/50: 100%|███████████████████████████████████████████████████████████████████| 586/586 [07:34<00:00,  1.29it/s]\n"
     ]
    },
    {
     "name": "stdout",
     "output_type": "stream",
     "text": [
      "Epoch 33/50, Loss: 0.3966\n"
     ]
    },
    {
     "name": "stderr",
     "output_type": "stream",
     "text": [
      "Validation: 100%|████████████████████████████████████████████████████████████████████| 147/147 [00:30<00:00,  4.78it/s]\n"
     ]
    },
    {
     "name": "stdout",
     "output_type": "stream",
     "text": [
      "Validation Accuracy: 0.8500\n"
     ]
    },
    {
     "name": "stderr",
     "output_type": "stream",
     "text": [
      "Epoch 34/50: 100%|███████████████████████████████████████████████████████████████████| 586/586 [07:33<00:00,  1.29it/s]\n"
     ]
    },
    {
     "name": "stdout",
     "output_type": "stream",
     "text": [
      "Epoch 34/50, Loss: 0.4013\n"
     ]
    },
    {
     "name": "stderr",
     "output_type": "stream",
     "text": [
      "Validation: 100%|████████████████████████████████████████████████████████████████████| 147/147 [00:32<00:00,  4.54it/s]\n"
     ]
    },
    {
     "name": "stdout",
     "output_type": "stream",
     "text": [
      "Validation Accuracy: 0.8523\n"
     ]
    },
    {
     "name": "stderr",
     "output_type": "stream",
     "text": [
      "Epoch 35/50: 100%|███████████████████████████████████████████████████████████████████| 586/586 [07:33<00:00,  1.29it/s]\n"
     ]
    },
    {
     "name": "stdout",
     "output_type": "stream",
     "text": [
      "Epoch 35/50, Loss: 0.3941\n"
     ]
    },
    {
     "name": "stderr",
     "output_type": "stream",
     "text": [
      "Validation: 100%|████████████████████████████████████████████████████████████████████| 147/147 [00:33<00:00,  4.45it/s]\n"
     ]
    },
    {
     "name": "stdout",
     "output_type": "stream",
     "text": [
      "Validation Accuracy: 0.8517\n"
     ]
    },
    {
     "name": "stderr",
     "output_type": "stream",
     "text": [
      "Epoch 36/50: 100%|███████████████████████████████████████████████████████████████████| 586/586 [07:30<00:00,  1.30it/s]\n"
     ]
    },
    {
     "name": "stdout",
     "output_type": "stream",
     "text": [
      "Epoch 36/50, Loss: 0.3951\n"
     ]
    },
    {
     "name": "stderr",
     "output_type": "stream",
     "text": [
      "Validation: 100%|████████████████████████████████████████████████████████████████████| 147/147 [00:32<00:00,  4.57it/s]\n"
     ]
    },
    {
     "name": "stdout",
     "output_type": "stream",
     "text": [
      "Validation Accuracy: 0.8499\n"
     ]
    },
    {
     "name": "stderr",
     "output_type": "stream",
     "text": [
      "Epoch 37/50: 100%|███████████████████████████████████████████████████████████████████| 586/586 [07:30<00:00,  1.30it/s]\n"
     ]
    },
    {
     "name": "stdout",
     "output_type": "stream",
     "text": [
      "Epoch 37/50, Loss: 0.3930\n"
     ]
    },
    {
     "name": "stderr",
     "output_type": "stream",
     "text": [
      "Validation: 100%|████████████████████████████████████████████████████████████████████| 147/147 [00:32<00:00,  4.46it/s]\n"
     ]
    },
    {
     "name": "stdout",
     "output_type": "stream",
     "text": [
      "Validation Accuracy: 0.8568\n"
     ]
    },
    {
     "name": "stderr",
     "output_type": "stream",
     "text": [
      "Epoch 38/50: 100%|███████████████████████████████████████████████████████████████████| 586/586 [07:29<00:00,  1.30it/s]\n"
     ]
    },
    {
     "name": "stdout",
     "output_type": "stream",
     "text": [
      "Epoch 38/50, Loss: 0.3934\n"
     ]
    },
    {
     "name": "stderr",
     "output_type": "stream",
     "text": [
      "Validation: 100%|████████████████████████████████████████████████████████████████████| 147/147 [00:31<00:00,  4.69it/s]\n"
     ]
    },
    {
     "name": "stdout",
     "output_type": "stream",
     "text": [
      "Validation Accuracy: 0.8513\n"
     ]
    },
    {
     "name": "stderr",
     "output_type": "stream",
     "text": [
      "Epoch 39/50: 100%|███████████████████████████████████████████████████████████████████| 586/586 [07:26<00:00,  1.31it/s]\n"
     ]
    },
    {
     "name": "stdout",
     "output_type": "stream",
     "text": [
      "Epoch 39/50, Loss: 0.3917\n"
     ]
    },
    {
     "name": "stderr",
     "output_type": "stream",
     "text": [
      "Validation: 100%|████████████████████████████████████████████████████████████████████| 147/147 [00:32<00:00,  4.50it/s]\n"
     ]
    },
    {
     "name": "stdout",
     "output_type": "stream",
     "text": [
      "Validation Accuracy: 0.8462\n"
     ]
    },
    {
     "name": "stderr",
     "output_type": "stream",
     "text": [
      "Epoch 40/50: 100%|███████████████████████████████████████████████████████████████████| 586/586 [07:31<00:00,  1.30it/s]\n"
     ]
    },
    {
     "name": "stdout",
     "output_type": "stream",
     "text": [
      "Epoch 40/50, Loss: 0.3920\n"
     ]
    },
    {
     "name": "stderr",
     "output_type": "stream",
     "text": [
      "Validation: 100%|████████████████████████████████████████████████████████████████████| 147/147 [00:32<00:00,  4.47it/s]\n"
     ]
    },
    {
     "name": "stdout",
     "output_type": "stream",
     "text": [
      "Validation Accuracy: 0.8524\n"
     ]
    },
    {
     "name": "stderr",
     "output_type": "stream",
     "text": [
      "Epoch 41/50: 100%|███████████████████████████████████████████████████████████████████| 586/586 [07:30<00:00,  1.30it/s]\n"
     ]
    },
    {
     "name": "stdout",
     "output_type": "stream",
     "text": [
      "Epoch 41/50, Loss: 0.3917\n"
     ]
    },
    {
     "name": "stderr",
     "output_type": "stream",
     "text": [
      "Validation: 100%|████████████████████████████████████████████████████████████████████| 147/147 [00:31<00:00,  4.73it/s]\n"
     ]
    },
    {
     "name": "stdout",
     "output_type": "stream",
     "text": [
      "Validation Accuracy: 0.8535\n"
     ]
    },
    {
     "name": "stderr",
     "output_type": "stream",
     "text": [
      "Epoch 42/50: 100%|███████████████████████████████████████████████████████████████████| 586/586 [07:28<00:00,  1.31it/s]\n"
     ]
    },
    {
     "name": "stdout",
     "output_type": "stream",
     "text": [
      "Epoch 42/50, Loss: 0.3912\n"
     ]
    },
    {
     "name": "stderr",
     "output_type": "stream",
     "text": [
      "Validation: 100%|████████████████████████████████████████████████████████████████████| 147/147 [00:31<00:00,  4.71it/s]\n"
     ]
    },
    {
     "name": "stdout",
     "output_type": "stream",
     "text": [
      "Validation Accuracy: 0.8501\n"
     ]
    },
    {
     "name": "stderr",
     "output_type": "stream",
     "text": [
      "Epoch 43/50: 100%|███████████████████████████████████████████████████████████████████| 586/586 [07:35<00:00,  1.29it/s]\n"
     ]
    },
    {
     "name": "stdout",
     "output_type": "stream",
     "text": [
      "Epoch 43/50, Loss: 0.3934\n"
     ]
    },
    {
     "name": "stderr",
     "output_type": "stream",
     "text": [
      "Validation: 100%|████████████████████████████████████████████████████████████████████| 147/147 [00:31<00:00,  4.63it/s]\n"
     ]
    },
    {
     "name": "stdout",
     "output_type": "stream",
     "text": [
      "Validation Accuracy: 0.8589\n"
     ]
    },
    {
     "name": "stderr",
     "output_type": "stream",
     "text": [
      "Epoch 44/50: 100%|███████████████████████████████████████████████████████████████████| 586/586 [07:30<00:00,  1.30it/s]\n"
     ]
    },
    {
     "name": "stdout",
     "output_type": "stream",
     "text": [
      "Epoch 44/50, Loss: 0.3878\n"
     ]
    },
    {
     "name": "stderr",
     "output_type": "stream",
     "text": [
      "Validation: 100%|████████████████████████████████████████████████████████████████████| 147/147 [00:30<00:00,  4.80it/s]\n"
     ]
    },
    {
     "name": "stdout",
     "output_type": "stream",
     "text": [
      "Validation Accuracy: 0.8503\n"
     ]
    },
    {
     "name": "stderr",
     "output_type": "stream",
     "text": [
      "Epoch 45/50: 100%|███████████████████████████████████████████████████████████████████| 586/586 [07:31<00:00,  1.30it/s]\n"
     ]
    },
    {
     "name": "stdout",
     "output_type": "stream",
     "text": [
      "Epoch 45/50, Loss: 0.3887\n"
     ]
    },
    {
     "name": "stderr",
     "output_type": "stream",
     "text": [
      "Validation: 100%|████████████████████████████████████████████████████████████████████| 147/147 [00:31<00:00,  4.68it/s]\n"
     ]
    },
    {
     "name": "stdout",
     "output_type": "stream",
     "text": [
      "Validation Accuracy: 0.8530\n"
     ]
    },
    {
     "name": "stderr",
     "output_type": "stream",
     "text": [
      "Epoch 46/50: 100%|███████████████████████████████████████████████████████████████████| 586/586 [07:37<00:00,  1.28it/s]\n"
     ]
    },
    {
     "name": "stdout",
     "output_type": "stream",
     "text": [
      "Epoch 46/50, Loss: 0.3911\n"
     ]
    },
    {
     "name": "stderr",
     "output_type": "stream",
     "text": [
      "Validation: 100%|████████████████████████████████████████████████████████████████████| 147/147 [00:32<00:00,  4.54it/s]\n"
     ]
    },
    {
     "name": "stdout",
     "output_type": "stream",
     "text": [
      "Validation Accuracy: 0.8482\n"
     ]
    },
    {
     "name": "stderr",
     "output_type": "stream",
     "text": [
      "Epoch 47/50: 100%|███████████████████████████████████████████████████████████████████| 586/586 [07:39<00:00,  1.28it/s]\n"
     ]
    },
    {
     "name": "stdout",
     "output_type": "stream",
     "text": [
      "Epoch 47/50, Loss: 0.3867\n"
     ]
    },
    {
     "name": "stderr",
     "output_type": "stream",
     "text": [
      "Validation: 100%|████████████████████████████████████████████████████████████████████| 147/147 [00:31<00:00,  4.59it/s]\n"
     ]
    },
    {
     "name": "stdout",
     "output_type": "stream",
     "text": [
      "Validation Accuracy: 0.8391\n"
     ]
    },
    {
     "name": "stderr",
     "output_type": "stream",
     "text": [
      "Epoch 48/50: 100%|███████████████████████████████████████████████████████████████████| 586/586 [07:48<00:00,  1.25it/s]\n"
     ]
    },
    {
     "name": "stdout",
     "output_type": "stream",
     "text": [
      "Epoch 48/50, Loss: 0.3860\n"
     ]
    },
    {
     "name": "stderr",
     "output_type": "stream",
     "text": [
      "Validation: 100%|████████████████████████████████████████████████████████████████████| 147/147 [00:32<00:00,  4.56it/s]\n"
     ]
    },
    {
     "name": "stdout",
     "output_type": "stream",
     "text": [
      "Validation Accuracy: 0.8530\n"
     ]
    },
    {
     "name": "stderr",
     "output_type": "stream",
     "text": [
      "Epoch 49/50: 100%|███████████████████████████████████████████████████████████████████| 586/586 [07:47<00:00,  1.25it/s]\n"
     ]
    },
    {
     "name": "stdout",
     "output_type": "stream",
     "text": [
      "Epoch 49/50, Loss: 0.3842\n"
     ]
    },
    {
     "name": "stderr",
     "output_type": "stream",
     "text": [
      "Validation: 100%|████████████████████████████████████████████████████████████████████| 147/147 [00:32<00:00,  4.49it/s]\n"
     ]
    },
    {
     "name": "stdout",
     "output_type": "stream",
     "text": [
      "Validation Accuracy: 0.8388\n"
     ]
    },
    {
     "name": "stderr",
     "output_type": "stream",
     "text": [
      "Epoch 50/50: 100%|███████████████████████████████████████████████████████████████████| 586/586 [07:48<00:00,  1.25it/s]\n"
     ]
    },
    {
     "name": "stdout",
     "output_type": "stream",
     "text": [
      "Epoch 50/50, Loss: 0.3858\n"
     ]
    },
    {
     "name": "stderr",
     "output_type": "stream",
     "text": [
      "Validation: 100%|████████████████████████████████████████████████████████████████████| 147/147 [00:34<00:00,  4.28it/s]"
     ]
    },
    {
     "name": "stdout",
     "output_type": "stream",
     "text": [
      "Validation Accuracy: 0.8367\n"
     ]
    },
    {
     "name": "stderr",
     "output_type": "stream",
     "text": [
      "\n"
     ]
    }
   ],
   "source": [
    "# Define the model, loss function, and optimizer\n",
    "#model = UNet(in_channels=3, out_channels=3, channels_list=[64, 128, 256, 512])\n",
    "model = UNet2(in_channels=3, out_channels=3)\n",
    "criterion = nn.CrossEntropyLoss()  # Use appropriate loss function\n",
    "optimizer = optim.Adam(model.parameters(), lr=0.001)\n",
    "\n",
    "# Training loop\n",
    "num_epochs = 50\n",
    "device = torch.device(\"cuda\" if torch.cuda.is_available() else \"cpu\")\n",
    "model.to(device)\n",
    "\n",
    "for epoch in range(num_epochs):\n",
    "    model.train()\n",
    "    total_loss = 0.0\n",
    "\n",
    "    for inputs, targets in tqdm(train_loader, desc=f\"Epoch {epoch + 1}/{num_epochs}\"):\n",
    "        inputs, targets = inputs.to(device).float(), targets.to(device)\n",
    "        inputs = inputs.permute(0, 3, 1, 2)\n",
    "        optimizer.zero_grad()\n",
    "\n",
    "        targets_list = targets.tolist() if isinstance(targets, torch.Tensor) else targets\n",
    "\n",
    "        # Map target values to valid class indices\n",
    "        value_mapping = {29: 0, 76: 1, 150: 2}\n",
    "        # Use torch.where to map values\n",
    "        targets = torch.where(targets == 29, torch.tensor(value_mapping[29]), \n",
    "                            torch.where(targets == 76, torch.tensor(value_mapping[76]), \n",
    "                                        torch.tensor(value_mapping[150])))\n",
    "\n",
    "        # Convert target tensor to Long\n",
    "        targets = targets.long()\n",
    "        outputs = model(inputs)\n",
    "        #print(np.unique(targets))\n",
    "        loss = criterion(outputs, targets)  # Adjust according to your task\n",
    "\n",
    "        loss.backward()\n",
    "        optimizer.step()\n",
    "\n",
    "        total_loss += loss.item()\n",
    "\n",
    "    average_loss = total_loss / len(train_loader)\n",
    "    print(f\"Epoch {epoch + 1}/{num_epochs}, Loss: {average_loss:.4f}\")\n",
    "\n",
    "    # Validation loop\n",
    "    model.eval()\n",
    "    total_correct = 0\n",
    "    total_samples = 0\n",
    "\n",
    "    with torch.no_grad():\n",
    "        for inputs, targets in tqdm(test_loader, desc=\"Validation\"):\n",
    "            inputs, targets = inputs.to(device).float(), targets.to(device)\n",
    "            inputs = inputs.permute(0, 3, 1, 2)\n",
    "            value_mapping = {29: 0, 76: 1, 150: 2}\n",
    "            # Use torch.where to map values\n",
    "            targets = torch.where(targets == 29, torch.tensor(value_mapping[29]), \n",
    "                            torch.where(targets == 76, torch.tensor(value_mapping[76]), \n",
    "                                        torch.tensor(value_mapping[150])))\n",
    "\n",
    "            # Convert target tensor to Long\n",
    "            targets = targets.long()\n",
    "            outputs = model(inputs)\n",
    "            # Calculate accuracy or other metrics based on your task\n",
    "            _, predicted = torch.max(outputs, 1)\n",
    "        \n",
    "            # Update total_samples and total_correct\n",
    "            total_samples += targets.numel()\n",
    "            total_correct += (predicted == targets).sum().item()\n",
    "\n",
    "\n",
    "    # Print validation metrics\n",
    "    print(f\"Validation Accuracy: {total_correct / total_samples:.4f}\")"
   ]
  },
  {
   "cell_type": "code",
   "execution_count": 7,
   "id": "142f62c5-e848-4e83-b522-dae59bd9a71b",
   "metadata": {
    "tags": []
   },
   "outputs": [],
   "source": [
    "scripted_model = torch.jit.script(model)\n",
    "\n",
    "# Save the scripted model to a file\n",
    "scripted_model.save(\"scripted_unet_80_20_split_50e.pt\")"
   ]
  },
  {
   "cell_type": "code",
   "execution_count": null,
   "id": "a67f27cc-9e30-40f9-98af-aff82142dea5",
   "metadata": {},
   "outputs": [],
   "source": []
  }
 ],
 "metadata": {
  "kernelspec": {
   "display_name": "Python 3 (ipykernel)",
   "language": "python",
   "name": "python3"
  },
  "language_info": {
   "codemirror_mode": {
    "name": "ipython",
    "version": 3
   },
   "file_extension": ".py",
   "mimetype": "text/x-python",
   "name": "python",
   "nbconvert_exporter": "python",
   "pygments_lexer": "ipython3",
   "version": "3.11.5"
  }
 },
 "nbformat": 4,
 "nbformat_minor": 5
}
