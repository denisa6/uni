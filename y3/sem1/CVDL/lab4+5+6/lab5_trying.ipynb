{
 "cells": [
  {
   "cell_type": "code",
   "execution_count": 2,
   "id": "f496fa87-7162-4b0e-982a-92d35aa8c3cf",
   "metadata": {
    "tags": []
   },
   "outputs": [],
   "source": [
    "from PIL import Image\n",
    "import os\n",
    "import torch\n",
    "import hashlib\n",
    "import tarfile\n",
    "import requests\n",
    "import numpy as np\n",
    "from tqdm import tqdm\n",
    "from PIL import Image\n",
    "import torch\n",
    "import torchvision\n",
    "import matplotlib.pyplot as plt\n",
    "from torchvision.transforms import v2\n",
    "import torch.nn as nn\n",
    "import torch.nn.functional as F\n",
    "from torch.utils.data import DataLoader\n",
    "import torch.optim as optim"
   ]
  },
  {
   "cell_type": "code",
   "execution_count": 3,
   "id": "5f82d12d-5953-4633-8bb4-f641408b988e",
   "metadata": {
    "tags": []
   },
   "outputs": [],
   "source": [
    "class LFWDataset(torch.utils.data.Dataset):\n",
    "    _DATA = (\n",
    "        # images\n",
    "        (\"http://vis-www.cs.umass.edu/lfw/lfw-funneled.tgz\", None),\n",
    "        # segmentation masks as ppm\n",
    "        (\"https://vis-www.cs.umass.edu/lfw/part_labels/parts_lfw_funneled_gt_images.tgz\",\n",
    "         \"3e7e26e801c3081d651c8c2ef3c45cfc\"),\n",
    "    )\n",
    "\n",
    "\n",
    "    def __init__(self, base_folder, transforms, download=True, split_name: str = 'train'):\n",
    "        super().__init__()\n",
    "        self.base_folder = base_folder\n",
    "        # TODO your code here: if necessary download and extract the data\n",
    "        '''\n",
    "        if download:\n",
    "            self.download_resources(base_folder)\n",
    "        self.X = None\n",
    "        self.Y = None\n",
    "        raise NotImplementedError(\"Not implemented yet\")'''\n",
    "        if download:\n",
    "            self.download_resources(base_folder)\n",
    "        self.transforms = transforms\n",
    "        self.split_name = split_name\n",
    "        self.image_folder = os.path.join(base_folder, \"lfw_funneled\")\n",
    "        #print(self.image_folder)\n",
    "        self.mask_folder = os.path.join(base_folder, \"parts_lfw_funneled_gt_images\")\n",
    "        #print(self.mask_folder)\n",
    "        self.image_file_list, self.mask_file_list = self.get_file_lists()\n",
    "        self.indices = self.get_split_indices()\n",
    "            \n",
    "    def get_file_lists(self):\n",
    "        all_image_files = [os.path.join(dp, f) for dp, dn, filenames in os.walk(self.image_folder) for f in filenames if f.endswith('.jpg')]\n",
    "\n",
    "        mask_file_list = [f for f in os.listdir(self.mask_folder) if f.endswith('.ppm')]\n",
    "        mask_file_list = [os.path.join(self.mask_folder, f) for f in mask_file_list if os.path.isfile(os.path.join(self.mask_folder, f))]\n",
    "        \n",
    "        image_mask_file_list = [f.replace('._','').replace('.ppm', '.jpg') for f in os.listdir(self.mask_folder) if f.endswith('.ppm')]\n",
    "        image_mask_file_set = set(image_mask_file_list)\n",
    "        \n",
    "        image_file_list = [f for f in all_image_files if os.path.isfile(f) and f.split(\"\\\\\")[-1] in image_mask_file_set]\n",
    "        #print(all_image_files[0])\n",
    "        #print(image_file_list[0])\n",
    "        \n",
    "        \n",
    "        return image_file_list, mask_file_list\n",
    "\n",
    "    def get_split_indices(self):\n",
    "        num_samples = len(self.image_file_list)\n",
    "        if self.split_name == 'train':\n",
    "            return list(range(num_samples // 2))\n",
    "        elif self.split_name == 'test':\n",
    "            return list(range(num_samples // 2, num_samples))\n",
    "        else:\n",
    "            raise ValueError(\"Invalid split_name. Use 'train' or 'test'.\")\n",
    "        \n",
    "    def __len__(self):\n",
    "        return len(self.indices)\n",
    "\n",
    "    def __getitem__(self, idx):\n",
    "        # TODO your code here: return the idx^th sample in the dataset: image, segmentation mask\n",
    "        # TODO your code here: if necessary apply the transforms\n",
    "        # raise NotImplementedError(\"Not implemented yet\")\n",
    "        #print(self.image_file_list)\n",
    "        image_filename = self.image_file_list[idx]\n",
    "        maybe = image_filename.split(\"\\\\\")[-1]\n",
    "        maybe = maybe.replace('.jpg', '.ppm')\n",
    "        #print(maybe)\n",
    "        maybe2 = self.mask_folder + \"\\\\\" + maybe\n",
    "        #print(maybe2)\n",
    "        mask_filename = image_filename.replace('.jpg', '.ppm')\n",
    "        mask_filename = maybe2\n",
    "\n",
    "        #image_path = os.path.join(self.base_folder, image_filename)\n",
    "        image_path = image_filename\n",
    "        #mask_path = os.path.join(self.mask_folder, mask_filename)\n",
    "        #print(mask_filename)\n",
    "        mask_path = mask_filename\n",
    "        #print(mask_path)\n",
    "        \n",
    "        image = Image.open(image_path).convert('RGB')\n",
    "        mask = Image.open(mask_path).convert('L')\n",
    "\n",
    "        if self.transforms is not None:\n",
    "            image = self.transforms(image)\n",
    "            mask = self.transforms(mask)\n",
    "        image = np.array(image)\n",
    "        mask = np.array(mask)\n",
    "        #print(mask)\n",
    "        return image, mask\n",
    "\n",
    "    def download_resources(self, base_folder):\n",
    "        if not os.path.exists(base_folder):\n",
    "            os.makedirs(base_folder)\n",
    "        self._download_and_extract_archive(url=LFWDataset._DATA[1][0], base_folder=base_folder,\n",
    "                                           md5=LFWDataset._DATA[1][1])\n",
    "        self._download_and_extract_archive(url=LFWDataset._DATA[0][0], base_folder=base_folder, md5=None)\n",
    "\n",
    "    def _download_and_extract_archive(self, url, base_folder, md5) -> None:\n",
    "        \"\"\"\n",
    "          Downloads an archive file from a given URL, saves it to the specified base folder,\n",
    "          and then extracts its contents to the base folder.\n",
    "\n",
    "          Args:\n",
    "          - url (str): The URL from which the archive file needs to be downloaded.\n",
    "          - base_folder (str): The path where the downloaded archive file will be saved and extracted.\n",
    "          - md5 (str): The MD5 checksum of the expected archive file for validation.\n",
    "          \"\"\"\n",
    "        base_folder = os.path.expanduser(base_folder)\n",
    "        filename = os.path.basename(url)\n",
    "\n",
    "        self._download_url(url, base_folder, md5)\n",
    "        archive = os.path.join(base_folder, filename)\n",
    "        print(f\"Extracting {archive} to {base_folder}\")\n",
    "        self._extract_tar_archive(archive, base_folder, True)\n",
    "\n",
    "    def _retreive(self, url, save_location, chunk_size: int = 1024 * 32) -> None:\n",
    "        \"\"\"\n",
    "            Downloads a file from a given URL and saves it to the specified location.\n",
    "\n",
    "            Args:\n",
    "            - url (str): The URL from which the file needs to be downloaded.\n",
    "            - save_location (str): The path where the downloaded file will be saved.\n",
    "            - chunk_size (int, optional): The size of each chunk of data to be downloaded. Defaults to 32 KB.\n",
    "            \"\"\"\n",
    "        try:\n",
    "            response = requests.get(url, stream=True)\n",
    "            total_size = int(response.headers.get('content-length', 0))\n",
    "\n",
    "            with open(save_location, 'wb') as file, tqdm(\n",
    "                    desc=os.path.basename(save_location),\n",
    "                    total=total_size,\n",
    "                    unit='B',\n",
    "                    unit_scale=True,\n",
    "                    unit_divisor=1024,\n",
    "            ) as bar:\n",
    "                for data in response.iter_content(chunk_size=chunk_size):\n",
    "                    file.write(data)\n",
    "                    bar.update(len(data))\n",
    "\n",
    "            print(f\"Download successful. File saved to: {save_location}\")\n",
    "\n",
    "        except Exception as e:\n",
    "            print(f\"An error occurred: {str(e)}\")\n",
    "\n",
    "    def _download_url(self, url: str, base_folder: str, md5: str = None) -> None:\n",
    "        \"\"\"Downloads the file from the url to the specified folder\n",
    "\n",
    "        Args:\n",
    "            url (str): URL to download file from\n",
    "            base_folder (str): Directory to place downloaded file in\n",
    "            md5 (str, optional): MD5 checksum of the download. If None, do not check\n",
    "        \"\"\"\n",
    "        base_folder = os.path.expanduser(base_folder)\n",
    "        filename = os.path.basename(url)\n",
    "        file_path = os.path.join(base_folder, filename)\n",
    "\n",
    "        os.makedirs(base_folder, exist_ok=True)\n",
    "\n",
    "        # check if the file already exists\n",
    "        if self._check_file(file_path, md5):\n",
    "            print(f\"File {file_path} already exists. Using that version\")\n",
    "            return\n",
    "\n",
    "        print(f\"Downloading {url} to file_path\")\n",
    "        self._retreive(url, file_path)\n",
    "\n",
    "        # check integrity of downloaded file\n",
    "        if not self._check_file(file_path, md5):\n",
    "            raise RuntimeError(\"File not found or corrupted.\")\n",
    "\n",
    "    def _extract_tar_archive(self, from_path: str, to_path: str = None, remove_finished: bool = False) -> str:\n",
    "        \"\"\"Extract a tar archive.\n",
    "\n",
    "        Args:\n",
    "            from_path (str): Path to the file to be extracted.\n",
    "            to_path (str): Path to the directory the file will be extracted to. If omitted, the directory of the file is\n",
    "                used.\n",
    "            remove_finished (bool): If True , remove the file after the extraction.\n",
    "        Returns:\n",
    "            (str): Path to the directory the file was extracted to.\n",
    "        \"\"\"\n",
    "        if to_path is None:\n",
    "            to_path = os.path.dirname(from_path)\n",
    "\n",
    "        with tarfile.open(from_path, \"r\") as tar:\n",
    "            tar.extractall(to_path)\n",
    "\n",
    "        if remove_finished:\n",
    "            os.remove(from_path)\n",
    "\n",
    "        return to_path\n",
    "\n",
    "    def _compute_md5(self, filepath: str, chunk_size: int = 1024 * 1024) -> str:\n",
    "        with open(filepath, \"rb\") as f:\n",
    "            md5 = hashlib.md5()\n",
    "            while chunk := f.read(chunk_size):\n",
    "                md5.update(chunk)\n",
    "        return md5.hexdigest()\n",
    "\n",
    "    def _check_file(self, filepath: str, md5: str) -> bool:\n",
    "        if not os.path.isfile(filepath):\n",
    "            return False\n",
    "        if md5 is None:\n",
    "            return True\n",
    "        return self._compute_md5(filepath) == md5"
   ]
  },
  {
   "cell_type": "code",
   "execution_count": 4,
   "id": "aac9c643-42eb-4f0c-99a1-e007b4121462",
   "metadata": {
    "tags": []
   },
   "outputs": [],
   "source": [
    "class EncoderBlock(nn.Module):\n",
    "    def __init__(self, in_channels, out_channels):\n",
    "        super(EncoderBlock, self).__init__()\n",
    "        self.conv1 = nn.Conv2d(in_channels, out_channels, kernel_size=3, padding=1)\n",
    "        self.conv2 = nn.Conv2d(out_channels, out_channels, kernel_size=3, padding=1)\n",
    "        self.pool = nn.MaxPool2d(kernel_size=2, stride=2)\n",
    "\n",
    "    def forward(self, x):\n",
    "        x = F.relu(self.conv1(x))\n",
    "        x = F.relu(self.conv2(x))\n",
    "        skip = x  # Save the output for skip connections\n",
    "        x = self.pool(x)\n",
    "        return x, skip\n",
    "\n",
    "class Encoder(nn.Module):\n",
    "    def __init__(self, channels_list):\n",
    "        super(Encoder, self).__init__()\n",
    "        self.blocks = nn.ModuleList([EncoderBlock(channels_list[i], channels_list[i+1]) for i in range(len(channels_list)-1)])\n",
    "\n",
    "    def forward(self, x):\n",
    "        skips = []\n",
    "        for block in self.blocks:\n",
    "            x, skip = block(x)\n",
    "            skips.append(skip)\n",
    "        return skips\n",
    "\n",
    "class DecoderBlock(nn.Module):\n",
    "    def __init__(self, in_channels, out_channels):\n",
    "        super(DecoderBlock, self).__init__()\n",
    "        self.upconv = nn.ConvTranspose2d(in_channels, out_channels, kernel_size=2, stride=2, output_padding=2)\n",
    "        self.conv1 = nn.Conv2d(in_channels, out_channels, kernel_size=3, padding=1)\n",
    "        self.conv2 = nn.Conv2d(out_channels, out_channels, kernel_size=3, padding=1)\n",
    "\n",
    "    def forward(self, x, skip):\n",
    "        print(f\"Input shape before upconv: {x.shape}\")\n",
    "        x = F.relu(self.upconv(x))\n",
    "        print(f\"Output shape after upconv: {x.shape}\")\n",
    "        print(f\"Skip shape: {skip.shape}\")\n",
    "        x = torch.cat([x, skip], dim=1)  # Concatenate along the channel dimension\n",
    "        print(f\"Concatenated shape: {x.shape}\")\n",
    "        x = F.relu(self.conv1(x))\n",
    "        x = F.relu(self.conv2(x))\n",
    "        return x\n",
    "\n",
    "class Decoder(nn.Module):\n",
    "    def __init__(self, channels_list):\n",
    "        super(Decoder, self).__init__()\n",
    "        self.blocks = nn.ModuleList([DecoderBlock(channels_list[i] + channels_list[-i-2], channels_list[-i-2]) for i in range(len(channels_list)-1)])\n",
    "\n",
    "    def forward(self, x, skips):\n",
    "        for block, skip in zip(self.blocks, skips[::-1]):\n",
    "            x = block(x, skip)\n",
    "        return x\n",
    "\n",
    "class UNet(nn.Module):\n",
    "    def __init__(self, in_channels, out_channels, channels_list):\n",
    "        super(UNet, self).__init__()\n",
    "        self.encoder = Encoder([in_channels] + channels_list)\n",
    "        self.decoder = Decoder(channels_list)\n",
    "        self.final_conv = nn.Conv2d(channels_list[-1], out_channels, kernel_size=1)\n",
    "\n",
    "    def forward(self, x):\n",
    "        skips = self.encoder(x)\n",
    "        x = self.decoder(skips[-1], skips[:-1])\n",
    "        x = self.final_conv(x)\n",
    "        \n",
    "        # Resize to match the ground truth data\n",
    "        x = F.interpolate(x, size=x.size()[2:], mode='bilinear', align_corners=False)\n",
    "        \n",
    "        return x"
   ]
  },
  {
   "cell_type": "code",
   "execution_count": 4,
   "id": "1272913d-3b77-43d7-a477-8ad7f799a83b",
   "metadata": {
    "tags": []
   },
   "outputs": [],
   "source": [
    "class UNet2(nn.Module):\n",
    "    def __init__(self, in_channels, out_channels):\n",
    "        super(UNet2, self).__init__()\n",
    "\n",
    "        # Encoder\n",
    "        self.enc_11 = nn.Conv2d(in_channels, 64, kernel_size=3, padding=1)\n",
    "        self.enc_12 = nn.Conv2d(64, 64, kernel_size=3, padding=1)\n",
    "        self.pool1 = nn.MaxPool2d(kernel_size=2, stride=2)\n",
    "\n",
    "        # Decoder\n",
    "        self.dec_21 = nn.Conv2d(64, 64, kernel_size=3, padding=1)\n",
    "        self.dec_22 = nn.Conv2d(64, 64, kernel_size=3, padding=1)\n",
    "        self.upconv1 = nn.ConvTranspose2d(64, out_channels, kernel_size=2, stride=2)\n",
    "\n",
    "    def forward(self, x):\n",
    "        # Encoder\n",
    "        x1 = F.relu(self.enc_11(x))\n",
    "        x2 = F.relu(self.enc_12(x1))\n",
    "        x = self.pool1(x2)\n",
    "\n",
    "        # Decoder\n",
    "        x = F.relu(self.dec_21(x))\n",
    "        x = F.relu(self.dec_22(x))\n",
    "        x = self.upconv1(x)\n",
    "\n",
    "        return x"
   ]
  },
  {
   "cell_type": "code",
   "execution_count": 5,
   "id": "2aae0400-5346-47e8-b1fb-0ff434297849",
   "metadata": {
    "tags": []
   },
   "outputs": [
    {
     "name": "stderr",
     "output_type": "stream",
     "text": [
      "Epoch 1/10: 100%|████████████████████████████████████████████████████████████████████| 366/366 [07:58<00:00,  1.31s/it]\n"
     ]
    },
    {
     "name": "stdout",
     "output_type": "stream",
     "text": [
      "Epoch 1/10, Loss: 0.6351\n"
     ]
    },
    {
     "name": "stderr",
     "output_type": "stream",
     "text": [
      "Validation: 100%|████████████████████████████████████████████████████████████████████| 366/366 [02:11<00:00,  2.77it/s]\n"
     ]
    },
    {
     "name": "stdout",
     "output_type": "stream",
     "text": [
      "Validation Accuracy: 0.7975\n"
     ]
    },
    {
     "name": "stderr",
     "output_type": "stream",
     "text": [
      "Epoch 2/10: 100%|████████████████████████████████████████████████████████████████████| 366/366 [06:24<00:00,  1.05s/it]\n"
     ]
    },
    {
     "name": "stdout",
     "output_type": "stream",
     "text": [
      "Epoch 2/10, Loss: 0.5208\n"
     ]
    },
    {
     "name": "stderr",
     "output_type": "stream",
     "text": [
      "Validation: 100%|████████████████████████████████████████████████████████████████████| 366/366 [01:34<00:00,  3.85it/s]\n"
     ]
    },
    {
     "name": "stdout",
     "output_type": "stream",
     "text": [
      "Validation Accuracy: 0.7966\n"
     ]
    },
    {
     "name": "stderr",
     "output_type": "stream",
     "text": [
      "Epoch 3/10: 100%|████████████████████████████████████████████████████████████████████| 366/366 [05:43<00:00,  1.07it/s]\n"
     ]
    },
    {
     "name": "stdout",
     "output_type": "stream",
     "text": [
      "Epoch 3/10, Loss: 0.5127\n"
     ]
    },
    {
     "name": "stderr",
     "output_type": "stream",
     "text": [
      "Validation: 100%|████████████████████████████████████████████████████████████████████| 366/366 [01:33<00:00,  3.93it/s]\n"
     ]
    },
    {
     "name": "stdout",
     "output_type": "stream",
     "text": [
      "Validation Accuracy: 0.7939\n"
     ]
    },
    {
     "name": "stderr",
     "output_type": "stream",
     "text": [
      "Epoch 4/10: 100%|████████████████████████████████████████████████████████████████████| 366/366 [06:58<00:00,  1.14s/it]\n"
     ]
    },
    {
     "name": "stdout",
     "output_type": "stream",
     "text": [
      "Epoch 4/10, Loss: 0.4966\n"
     ]
    },
    {
     "name": "stderr",
     "output_type": "stream",
     "text": [
      "Validation: 100%|████████████████████████████████████████████████████████████████████| 366/366 [01:34<00:00,  3.88it/s]\n"
     ]
    },
    {
     "name": "stdout",
     "output_type": "stream",
     "text": [
      "Validation Accuracy: 0.7925\n"
     ]
    },
    {
     "name": "stderr",
     "output_type": "stream",
     "text": [
      "Epoch 5/10: 100%|████████████████████████████████████████████████████████████████████| 366/366 [08:54<00:00,  1.46s/it]\n"
     ]
    },
    {
     "name": "stdout",
     "output_type": "stream",
     "text": [
      "Epoch 5/10, Loss: 0.4738\n"
     ]
    },
    {
     "name": "stderr",
     "output_type": "stream",
     "text": [
      "Validation: 100%|████████████████████████████████████████████████████████████████████| 366/366 [02:44<00:00,  2.22it/s]\n"
     ]
    },
    {
     "name": "stdout",
     "output_type": "stream",
     "text": [
      "Validation Accuracy: 0.8225\n"
     ]
    },
    {
     "name": "stderr",
     "output_type": "stream",
     "text": [
      "Epoch 6/10: 100%|████████████████████████████████████████████████████████████████████| 366/366 [09:52<00:00,  1.62s/it]\n"
     ]
    },
    {
     "name": "stdout",
     "output_type": "stream",
     "text": [
      "Epoch 6/10, Loss: 0.4554\n"
     ]
    },
    {
     "name": "stderr",
     "output_type": "stream",
     "text": [
      "Validation: 100%|████████████████████████████████████████████████████████████████████| 366/366 [02:44<00:00,  2.23it/s]\n"
     ]
    },
    {
     "name": "stdout",
     "output_type": "stream",
     "text": [
      "Validation Accuracy: 0.8258\n"
     ]
    },
    {
     "name": "stderr",
     "output_type": "stream",
     "text": [
      "Epoch 7/10: 100%|████████████████████████████████████████████████████████████████████| 366/366 [10:23<00:00,  1.70s/it]\n"
     ]
    },
    {
     "name": "stdout",
     "output_type": "stream",
     "text": [
      "Epoch 7/10, Loss: 0.4512\n"
     ]
    },
    {
     "name": "stderr",
     "output_type": "stream",
     "text": [
      "Validation: 100%|████████████████████████████████████████████████████████████████████| 366/366 [02:37<00:00,  2.33it/s]\n"
     ]
    },
    {
     "name": "stdout",
     "output_type": "stream",
     "text": [
      "Validation Accuracy: 0.8260\n"
     ]
    },
    {
     "name": "stderr",
     "output_type": "stream",
     "text": [
      "Epoch 8/10: 100%|████████████████████████████████████████████████████████████████████| 366/366 [06:35<00:00,  1.08s/it]\n"
     ]
    },
    {
     "name": "stdout",
     "output_type": "stream",
     "text": [
      "Epoch 8/10, Loss: 0.4387\n"
     ]
    },
    {
     "name": "stderr",
     "output_type": "stream",
     "text": [
      "Validation: 100%|████████████████████████████████████████████████████████████████████| 366/366 [02:10<00:00,  2.80it/s]\n"
     ]
    },
    {
     "name": "stdout",
     "output_type": "stream",
     "text": [
      "Validation Accuracy: 0.8119\n"
     ]
    },
    {
     "name": "stderr",
     "output_type": "stream",
     "text": [
      "Epoch 9/10: 100%|████████████████████████████████████████████████████████████████████| 366/366 [07:57<00:00,  1.30s/it]\n"
     ]
    },
    {
     "name": "stdout",
     "output_type": "stream",
     "text": [
      "Epoch 9/10, Loss: 0.4388\n"
     ]
    },
    {
     "name": "stderr",
     "output_type": "stream",
     "text": [
      "Validation: 100%|████████████████████████████████████████████████████████████████████| 366/366 [02:09<00:00,  2.83it/s]\n"
     ]
    },
    {
     "name": "stdout",
     "output_type": "stream",
     "text": [
      "Validation Accuracy: 0.8298\n"
     ]
    },
    {
     "name": "stderr",
     "output_type": "stream",
     "text": [
      "Epoch 10/10: 100%|███████████████████████████████████████████████████████████████████| 366/366 [07:24<00:00,  1.22s/it]\n"
     ]
    },
    {
     "name": "stdout",
     "output_type": "stream",
     "text": [
      "Epoch 10/10, Loss: 0.4340\n"
     ]
    },
    {
     "name": "stderr",
     "output_type": "stream",
     "text": [
      "Validation: 100%|████████████████████████████████████████████████████████████████████| 366/366 [02:06<00:00,  2.89it/s]"
     ]
    },
    {
     "name": "stdout",
     "output_type": "stream",
     "text": [
      "Validation Accuracy: 0.8305\n"
     ]
    },
    {
     "name": "stderr",
     "output_type": "stream",
     "text": [
      "\n"
     ]
    }
   ],
   "source": [
    "transform=None\n",
    "# Create train and test datasets\n",
    "train_dataset = LFWDataset(base_folder='..\\cvdl_lab_4\\lfw_dataset', transforms=transform, download=False, split_name='train')\n",
    "test_dataset = LFWDataset(base_folder='..\\cvdl_lab_4\\lfw_dataset', transforms=transform, download=False, split_name='test')\n",
    "\n",
    "# Create data loaders\n",
    "train_loader = DataLoader(train_dataset, batch_size=4, shuffle=True)\n",
    "test_loader = DataLoader(test_dataset, batch_size=4, shuffle=False)\n",
    "\n",
    "# Define the model, loss function, and optimizer\n",
    "#model = UNet(in_channels=3, out_channels=3, channels_list=[64, 128, 256, 512])\n",
    "model = UNet2(in_channels=3, out_channels=3)\n",
    "criterion = nn.CrossEntropyLoss()  # Use appropriate loss function\n",
    "optimizer = optim.Adam(model.parameters(), lr=0.001)\n",
    "\n",
    "# Training loop\n",
    "num_epochs = 10\n",
    "device = torch.device(\"cuda\" if torch.cuda.is_available() else \"cpu\")\n",
    "model.to(device)\n",
    "\n",
    "for epoch in range(num_epochs):\n",
    "    model.train()\n",
    "    total_loss = 0.0\n",
    "\n",
    "    for inputs, targets in tqdm(train_loader, desc=f\"Epoch {epoch + 1}/{num_epochs}\"):\n",
    "        inputs, targets = inputs.to(device).float(), targets.to(device)\n",
    "        inputs = inputs.permute(0, 3, 1, 2)\n",
    "        optimizer.zero_grad()\n",
    "\n",
    "        targets_list = targets.tolist() if isinstance(targets, torch.Tensor) else targets\n",
    "\n",
    "        # Map target values to valid class indices\n",
    "        value_mapping = {29: 0, 76: 1, 150: 2}\n",
    "        # Use torch.where to map values\n",
    "        targets = torch.where(targets == 29, torch.tensor(value_mapping[29]), \n",
    "                            torch.where(targets == 76, torch.tensor(value_mapping[76]), \n",
    "                                        torch.tensor(value_mapping[150])))\n",
    "\n",
    "        # Convert target tensor to Long\n",
    "        targets = targets.long()\n",
    "        outputs = model(inputs)\n",
    "        #print(np.unique(targets))\n",
    "        loss = criterion(outputs, targets)  # Adjust according to your task\n",
    "\n",
    "        loss.backward()\n",
    "        optimizer.step()\n",
    "\n",
    "        total_loss += loss.item()\n",
    "\n",
    "    average_loss = total_loss / len(train_loader)\n",
    "    print(f\"Epoch {epoch + 1}/{num_epochs}, Loss: {average_loss:.4f}\")\n",
    "\n",
    "    # Validation loop\n",
    "    model.eval()\n",
    "    total_correct = 0\n",
    "    total_samples = 0\n",
    "\n",
    "    with torch.no_grad():\n",
    "        for inputs, targets in tqdm(test_loader, desc=\"Validation\"):\n",
    "            inputs, targets = inputs.to(device).float(), targets.to(device)\n",
    "            inputs = inputs.permute(0, 3, 1, 2)\n",
    "            value_mapping = {29: 0, 76: 1, 150: 2}\n",
    "            # Use torch.where to map values\n",
    "            targets = torch.where(targets == 29, torch.tensor(value_mapping[29]), \n",
    "                            torch.where(targets == 76, torch.tensor(value_mapping[76]), \n",
    "                                        torch.tensor(value_mapping[150])))\n",
    "\n",
    "            # Convert target tensor to Long\n",
    "            targets = targets.long()\n",
    "            outputs = model(inputs)\n",
    "            # Calculate accuracy or other metrics based on your task\n",
    "            _, predicted = torch.max(outputs, 1)\n",
    "        \n",
    "            # Update total_samples and total_correct\n",
    "            total_samples += targets.numel()\n",
    "            total_correct += (predicted == targets).sum().item()\n",
    "\n",
    "\n",
    "    # Print validation metrics\n",
    "    print(f\"Validation Accuracy: {total_correct / total_samples:.4f}\")"
   ]
  },
  {
   "cell_type": "code",
   "execution_count": 7,
   "id": "69d8248b-c528-475f-a2ab-509bbab56719",
   "metadata": {
    "tags": []
   },
   "outputs": [],
   "source": [
    "scripted_model = torch.jit.script(model)\n",
    "# acc - 0.8305\n",
    "# loss - 0.4340\n",
    "\n",
    "# Save the scripted model to a file\n",
    "scripted_model.save(\"scripted_unet_50_50_split_10e.pt\")"
   ]
  },
  {
   "cell_type": "code",
   "execution_count": 5,
   "id": "421fd70a-ff8b-4a15-830f-cf3398a4d1fd",
   "metadata": {
    "tags": []
   },
   "outputs": [],
   "source": [
    "def mean_pixel_accuracy(outputs, targets):\n",
    "    _, predicted = torch.max(outputs, 1)\n",
    "    correct_pixels = (predicted == targets).sum().item()\n",
    "    total_pixels = targets.numel()\n",
    "    pixel_accuracy = correct_pixels / total_pixels\n",
    "    return pixel_accuracy\n",
    "\n",
    "def mean_intersection_over_union(outputs, targets, num_classes):\n",
    "    _, predicted = torch.max(outputs, 1)\n",
    "\n",
    "    intersection = torch.histc(predicted.float() * num_classes + targets.float(), bins=num_classes ** 2, min=0, max=num_classes ** 2)\n",
    "    union = torch.histc(predicted.float(), bins=num_classes, min=0, max=num_classes) + torch.histc(targets.float(), bins=num_classes, min=0, max=num_classes) - intersection\n",
    "\n",
    "    iou = intersection / union\n",
    "    mIoU = torch.mean(iou)\n",
    "    return mIoU\n",
    "\n",
    "def frequency_weighted_intersection_over_union(outputs, targets, num_classes):\n",
    "    _, predicted = torch.max(outputs, 1)\n",
    "\n",
    "    intersection = torch.histc(predicted.float() * num_classes + targets.float(), bins=num_classes ** 2, min=0, max=num_classes ** 2)\n",
    "    union = torch.histc(predicted.float(), bins=num_classes, min=0, max=num_classes) + torch.histc(targets.float(), bins=num_classes, min=0, max=num_classes) - intersection\n",
    "\n",
    "    iou = intersection / union\n",
    "    freq = torch.histc(targets.float(), bins=num_classes, min=0, max=num_classes) / targets.numel()\n",
    "\n",
    "    weighted_iou = iou * freq\n",
    "    fwIoU = torch.sum(weighted_iou)\n",
    "    return fwIoU"
   ]
  },
  {
   "cell_type": "code",
   "execution_count": 5,
   "id": "dc9ceca5-1a13-4a55-a1ab-0c313f1a40a5",
   "metadata": {
    "tags": []
   },
   "outputs": [
    {
     "name": "stderr",
     "output_type": "stream",
     "text": [
      "Epoch 1/10: 100%|██████████████████████████████████████████████████████████████████████| 59/59 [06:36<00:00,  6.73s/it]\n"
     ]
    },
    {
     "name": "stdout",
     "output_type": "stream",
     "text": [
      "Epoch 1/10, Loss: 0.9860\n"
     ]
    },
    {
     "name": "stderr",
     "output_type": "stream",
     "text": [
      "Validation: 100%|██████████████████████████████████████████████████████████████████████| 59/59 [01:36<00:00,  1.64s/it]\n"
     ]
    },
    {
     "name": "stdout",
     "output_type": "stream",
     "text": [
      "Validation Accuracy: 0.7891\n"
     ]
    },
    {
     "name": "stderr",
     "output_type": "stream",
     "text": [
      "Epoch 2/10: 100%|██████████████████████████████████████████████████████████████████████| 59/59 [06:46<00:00,  6.90s/it]\n"
     ]
    },
    {
     "name": "stdout",
     "output_type": "stream",
     "text": [
      "Epoch 2/10, Loss: 0.5543\n"
     ]
    },
    {
     "name": "stderr",
     "output_type": "stream",
     "text": [
      "Validation: 100%|██████████████████████████████████████████████████████████████████████| 59/59 [01:48<00:00,  1.84s/it]\n"
     ]
    },
    {
     "name": "stdout",
     "output_type": "stream",
     "text": [
      "Validation Accuracy: 0.7865\n"
     ]
    },
    {
     "name": "stderr",
     "output_type": "stream",
     "text": [
      "Epoch 3/10: 100%|██████████████████████████████████████████████████████████████████████| 59/59 [06:40<00:00,  6.79s/it]\n"
     ]
    },
    {
     "name": "stdout",
     "output_type": "stream",
     "text": [
      "Epoch 3/10, Loss: 0.5330\n"
     ]
    },
    {
     "name": "stderr",
     "output_type": "stream",
     "text": [
      "Validation: 100%|██████████████████████████████████████████████████████████████████████| 59/59 [01:39<00:00,  1.68s/it]\n"
     ]
    },
    {
     "name": "stdout",
     "output_type": "stream",
     "text": [
      "Validation Accuracy: 0.7943\n"
     ]
    },
    {
     "name": "stderr",
     "output_type": "stream",
     "text": [
      "Epoch 4/10: 100%|██████████████████████████████████████████████████████████████████████| 59/59 [04:43<00:00,  4.80s/it]\n"
     ]
    },
    {
     "name": "stdout",
     "output_type": "stream",
     "text": [
      "Epoch 4/10, Loss: 0.5271\n"
     ]
    },
    {
     "name": "stderr",
     "output_type": "stream",
     "text": [
      "Validation: 100%|██████████████████████████████████████████████████████████████████████| 59/59 [01:00<00:00,  1.02s/it]\n"
     ]
    },
    {
     "name": "stdout",
     "output_type": "stream",
     "text": [
      "Validation Accuracy: 0.7946\n"
     ]
    },
    {
     "name": "stderr",
     "output_type": "stream",
     "text": [
      "Epoch 5/10: 100%|██████████████████████████████████████████████████████████████████████| 59/59 [04:12<00:00,  4.28s/it]\n"
     ]
    },
    {
     "name": "stdout",
     "output_type": "stream",
     "text": [
      "Epoch 5/10, Loss: 0.5049\n"
     ]
    },
    {
     "name": "stderr",
     "output_type": "stream",
     "text": [
      "Validation: 100%|██████████████████████████████████████████████████████████████████████| 59/59 [01:15<00:00,  1.28s/it]\n"
     ]
    },
    {
     "name": "stdout",
     "output_type": "stream",
     "text": [
      "Validation Accuracy: 0.8034\n"
     ]
    },
    {
     "name": "stderr",
     "output_type": "stream",
     "text": [
      "Epoch 6/10: 100%|██████████████████████████████████████████████████████████████████████| 59/59 [04:39<00:00,  4.74s/it]\n"
     ]
    },
    {
     "name": "stdout",
     "output_type": "stream",
     "text": [
      "Epoch 6/10, Loss: 0.5150\n"
     ]
    },
    {
     "name": "stderr",
     "output_type": "stream",
     "text": [
      "Validation: 100%|██████████████████████████████████████████████████████████████████████| 59/59 [01:13<00:00,  1.24s/it]\n"
     ]
    },
    {
     "name": "stdout",
     "output_type": "stream",
     "text": [
      "Validation Accuracy: 0.8017\n"
     ]
    },
    {
     "name": "stderr",
     "output_type": "stream",
     "text": [
      "Epoch 7/10: 100%|██████████████████████████████████████████████████████████████████████| 59/59 [04:35<00:00,  4.68s/it]\n"
     ]
    },
    {
     "name": "stdout",
     "output_type": "stream",
     "text": [
      "Epoch 7/10, Loss: 0.5207\n"
     ]
    },
    {
     "name": "stderr",
     "output_type": "stream",
     "text": [
      "Validation: 100%|██████████████████████████████████████████████████████████████████████| 59/59 [01:11<00:00,  1.21s/it]\n"
     ]
    },
    {
     "name": "stdout",
     "output_type": "stream",
     "text": [
      "Validation Accuracy: 0.8015\n"
     ]
    },
    {
     "name": "stderr",
     "output_type": "stream",
     "text": [
      "Epoch 8/10: 100%|██████████████████████████████████████████████████████████████████████| 59/59 [04:26<00:00,  4.51s/it]\n"
     ]
    },
    {
     "name": "stdout",
     "output_type": "stream",
     "text": [
      "Epoch 8/10, Loss: 0.4895\n"
     ]
    },
    {
     "name": "stderr",
     "output_type": "stream",
     "text": [
      "Validation: 100%|██████████████████████████████████████████████████████████████████████| 59/59 [01:11<00:00,  1.22s/it]\n"
     ]
    },
    {
     "name": "stdout",
     "output_type": "stream",
     "text": [
      "Validation Accuracy: 0.8079\n"
     ]
    },
    {
     "name": "stderr",
     "output_type": "stream",
     "text": [
      "Epoch 9/10: 100%|██████████████████████████████████████████████████████████████████████| 59/59 [04:28<00:00,  4.55s/it]\n"
     ]
    },
    {
     "name": "stdout",
     "output_type": "stream",
     "text": [
      "Epoch 9/10, Loss: 0.4797\n"
     ]
    },
    {
     "name": "stderr",
     "output_type": "stream",
     "text": [
      "Validation: 100%|██████████████████████████████████████████████████████████████████████| 59/59 [01:11<00:00,  1.20s/it]\n"
     ]
    },
    {
     "name": "stdout",
     "output_type": "stream",
     "text": [
      "Validation Accuracy: 0.8132\n"
     ]
    },
    {
     "name": "stderr",
     "output_type": "stream",
     "text": [
      "Epoch 10/10: 100%|█████████████████████████████████████████████████████████████████████| 59/59 [04:09<00:00,  4.23s/it]\n"
     ]
    },
    {
     "name": "stdout",
     "output_type": "stream",
     "text": [
      "Epoch 10/10, Loss: 0.4646\n"
     ]
    },
    {
     "name": "stderr",
     "output_type": "stream",
     "text": [
      "Validation: 100%|██████████████████████████████████████████████████████████████████████| 59/59 [01:10<00:00,  1.20s/it]"
     ]
    },
    {
     "name": "stdout",
     "output_type": "stream",
     "text": [
      "Validation Accuracy: 0.8110\n"
     ]
    },
    {
     "name": "stderr",
     "output_type": "stream",
     "text": [
      "\n"
     ]
    }
   ],
   "source": [
    "transform=None\n",
    "# Create train and test datasets\n",
    "train_dataset = LFWDataset(base_folder='..\\cvdl_lab_4\\lfw_dataset', transforms=transform, download=False, split_name='train')\n",
    "test_dataset = LFWDataset(base_folder='..\\cvdl_lab_4\\lfw_dataset', transforms=transform, download=False, split_name='test')\n",
    "\n",
    "# Create data loaders\n",
    "train_loader = DataLoader(train_dataset, batch_size=25, shuffle=True)\n",
    "test_loader = DataLoader(test_dataset, batch_size=25, shuffle=False)\n",
    "\n",
    "# Define the model, loss function, and optimizer\n",
    "#model = UNet(in_channels=3, out_channels=3, channels_list=[64, 128, 256, 512])\n",
    "model = UNet2(in_channels=3, out_channels=3)\n",
    "criterion = nn.CrossEntropyLoss()  # Use appropriate loss function\n",
    "optimizer = optim.Adam(model.parameters(), lr=0.001)\n",
    "\n",
    "# Training loop\n",
    "num_epochs = 10\n",
    "device = torch.device(\"cuda\" if torch.cuda.is_available() else \"cpu\")\n",
    "model.to(device)\n",
    "\n",
    "for epoch in range(num_epochs):\n",
    "    model.train()\n",
    "    total_loss = 0.0\n",
    "\n",
    "    for inputs, targets in tqdm(train_loader, desc=f\"Epoch {epoch + 1}/{num_epochs}\"):\n",
    "        inputs, targets = inputs.to(device).float(), targets.to(device)\n",
    "        inputs = inputs.permute(0, 3, 1, 2)\n",
    "        optimizer.zero_grad()\n",
    "\n",
    "        targets_list = targets.tolist() if isinstance(targets, torch.Tensor) else targets\n",
    "\n",
    "        # Map target values to valid class indices\n",
    "        value_mapping = {29: 0, 76: 1, 150: 2}\n",
    "        # Use torch.where to map values\n",
    "        targets = torch.where(targets == 29, torch.tensor(value_mapping[29]), \n",
    "                            torch.where(targets == 76, torch.tensor(value_mapping[76]), \n",
    "                                        torch.tensor(value_mapping[150])))\n",
    "\n",
    "        # Convert target tensor to Long\n",
    "        targets = targets.long()\n",
    "        outputs = model(inputs)\n",
    "        #print(np.unique(targets))\n",
    "        loss = criterion(outputs, targets)  # Adjust according to your task\n",
    "\n",
    "        loss.backward()\n",
    "        optimizer.step()\n",
    "\n",
    "        total_loss += loss.item()\n",
    "\n",
    "    average_loss = total_loss / len(train_loader)\n",
    "    print(f\"Epoch {epoch + 1}/{num_epochs}, Loss: {average_loss:.4f}\")\n",
    "\n",
    "    # Validation loop\n",
    "    model.eval()\n",
    "    total_correct = 0\n",
    "    total_samples = 0\n",
    "\n",
    "    with torch.no_grad():\n",
    "        for inputs, targets in tqdm(test_loader, desc=\"Validation\"):\n",
    "            inputs, targets = inputs.to(device).float(), targets.to(device)\n",
    "            inputs = inputs.permute(0, 3, 1, 2)\n",
    "            value_mapping = {29: 0, 76: 1, 150: 2}\n",
    "            # Use torch.where to map values\n",
    "            targets = torch.where(targets == 29, torch.tensor(value_mapping[29]), \n",
    "                            torch.where(targets == 76, torch.tensor(value_mapping[76]), \n",
    "                                        torch.tensor(value_mapping[150])))\n",
    "\n",
    "            # Convert target tensor to Long\n",
    "            targets = targets.long()\n",
    "            outputs = model(inputs)\n",
    "            # Calculate accuracy or other metrics based on your task\n",
    "            _, predicted = torch.max(outputs, 1)\n",
    "        \n",
    "            # Update total_samples and total_correct\n",
    "            total_samples += targets.numel()\n",
    "            #total_correct += (predicted == targets).sum().item\n",
    "            total_correct += (predicted == targets).sum().item()\n",
    "\n",
    "\n",
    "    # Print validation metrics\n",
    "    print(f\"Validation Accuracy: {total_correct / total_samples:.4f}\")"
   ]
  },
  {
   "cell_type": "code",
   "execution_count": 6,
   "id": "7a7e0d8a-17f9-4583-958a-a50dcb125f9b",
   "metadata": {
    "tags": []
   },
   "outputs": [
    {
     "name": "stdout",
     "output_type": "stream",
     "text": [
      "[0 1 2]\n",
      "[ 29  76 150]\n"
     ]
    },
    {
     "data": {
      "image/png": "[encoded data removed]",
      "text/plain": [
       "<Figure size 640x480 with 3 Axes>"
      ]
     },
     "metadata": {},
     "output_type": "display_data"
    }
   ],
   "source": [
    "model.eval()\n",
    "\n",
    "# Get the specific image and mask from the dataset\n",
    "lfw_dataset = LFWDataset(download=False, base_folder='..\\cvdl_lab_4\\lfw_dataset', transforms=None)\n",
    "index_to_inspect = 0\n",
    "image, mask = lfw_dataset[index_to_inspect]\n",
    "\n",
    "# Convert the image to the format expected by the model\n",
    "image_tensor = torch.unsqueeze(torch.transpose(torch.tensor(image), 0, 2), 0).float()\n",
    "\n",
    "# Make a prediction using the model\n",
    "with torch.no_grad():\n",
    "    model_output = model(image_tensor)\n",
    "\n",
    "# Assuming your model produces class scores for each pixel, you can use argmax to get the predicted class for each pixel\n",
    "predicted_mask = torch.argmax(model_output, dim=1).squeeze().numpy()\n",
    "print(np.unique(predicted_mask))\n",
    "print(np.unique(mask))\n",
    "\n",
    "# Rotate the predicted mask to match the orientation of the original image and ground truth mask\n",
    "predicted_mask_rotated = np.rot90(predicted_mask, k=-1)\n",
    "\n",
    "# Flip the rotated predicted mask horizontally\n",
    "predicted_mask_final = np.fliplr(predicted_mask_rotated)\n",
    "\n",
    "# Visualize the original image, ground truth mask, and predicted mask\n",
    "plt.subplot(1, 3, 1)\n",
    "plt.imshow(image)\n",
    "plt.title('Original Image')\n",
    "\n",
    "plt.subplot(1, 3, 2)\n",
    "plt.imshow(mask, cmap='gray')\n",
    "plt.title('Ground Truth Mask')\n",
    "\n",
    "plt.subplot(1, 3, 3)\n",
    "plt.imshow(predicted_mask_final, cmap='gray')\n",
    "plt.title('Predicted Mask')\n",
    "\n",
    "plt.show()"
   ]
  },
  {
   "cell_type": "code",
   "execution_count": 7,
   "id": "ba8a1a6b-639c-4610-a2fe-b4af5847bad7",
   "metadata": {},
   "outputs": [],
   "source": [
    "scripted_model = torch.jit.script(model)\n",
    "\n",
    "# Save the scripted model to a file\n",
    "scripted_model.save(\"scripted_unet.pt\")"
   ]
  },
  {
   "cell_type": "code",
   "execution_count": null,
   "id": "e5ceb8d4-d335-48e0-9714-5c6bb997538e",
   "metadata": {},
   "outputs": [],
   "source": []
  }
 ],
 "metadata": {
  "kernelspec": {
   "display_name": "Python 3 (ipykernel)",
   "language": "python",
   "name": "python3"
  },
  "language_info": {
   "codemirror_mode": {
    "name": "ipython",
    "version": 3
   },
   "file_extension": ".py",
   "mimetype": "text/x-python",
   "name": "python",
   "nbconvert_exporter": "python",
   "pygments_lexer": "ipython3",
   "version": "3.11.5"
  }
 },
 "nbformat": 4,
 "nbformat_minor": 5
}
