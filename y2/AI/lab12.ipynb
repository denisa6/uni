{
 "cells": [
  {
   "cell_type": "code",
   "execution_count": 1,
   "id": "dbcca77b",
   "metadata": {},
   "outputs": [],
   "source": [
    "#1 initialize population\n",
    "import random\n",
    "\n",
    "def initialize_population(count, N):\n",
    "    population = []\n",
    "    for _ in range(count):\n",
    "        perm = random.sample(range(1, N + 1), N)\n",
    "        population.append(perm)\n",
    "    return population"
   ]
  },
  {
   "cell_type": "code",
   "execution_count": 2,
   "id": "af2a25cb",
   "metadata": {},
   "outputs": [],
   "source": [
    "def evaluate_fitness(perm, weigths):\n",
    "    fitness_scores = 0\n",
    "    for i in range(len(perm)):\n",
    "        fitness_scores += weights[i][perm[i]-1]\n",
    "        for j in range(i+1, len(perm)):\n",
    "            if(perm[i] == perm[j] or abs(i - perm[i] - 1) == abs(j - perm[j] - 1)):\n",
    "                fitness_scores -= weights[i][perm[i]-1]\n",
    "        \n",
    "    return fitness_scores"
   ]
  },
  {
   "cell_type": "code",
   "execution_count": 3,
   "id": "2cc1cba1",
   "metadata": {},
   "outputs": [],
   "source": [
    "def tournament_selection(population, fitness_values, tournament_size):\n",
    "    selected = []\n",
    "    for _ in range(len(population)):\n",
    "        participants = random.sample(range(len(population)), tournament_size)\n",
    "        winner = max(participants, key=lambda x: fitness_values[x])\n",
    "        selected.append(population[winner])\n",
    "    return selected"
   ]
  },
  {
   "cell_type": "code",
   "execution_count": 4,
   "id": "99dce452",
   "metadata": {},
   "outputs": [],
   "source": [
    "def crossover(parent1, parent2):\n",
    "    # create two new offspring by combining the parents\n",
    "    # IN:  parents\n",
    "    # OUT: offspring\n",
    "    point = random.randint(1, len(parent1) - 1)\n",
    "    child1 = parent1[:point]\n",
    "    child2 = parent2[:point]\n",
    "    for i in range(len(parent1)):\n",
    "        if(parent1[i] not in child2):\n",
    "            child2.append(parent1[i])\n",
    "        if(parent2[i] not in child1):\n",
    "            child1.append(parent2[i])\n",
    "    return child1, child2"
   ]
  },
  {
   "cell_type": "code",
   "execution_count": 10,
   "id": "86035ef5",
   "metadata": {},
   "outputs": [],
   "source": [
    "def mutation(individual, mutation_rate):\n",
    "    for i in range(len(individual)):\n",
    "        if random.random() < mutation_rate:\n",
    "            point = random.randint(1, len(individual) - 1)\n",
    "            aux = individual[point]\n",
    "            individual[point] = individual[i]\n",
    "            individual[i] = aux\n",
    "    return individual"
   ]
  },
  {
   "cell_type": "code",
   "execution_count": 12,
   "id": "240ff528",
   "metadata": {},
   "outputs": [],
   "source": [
    "def selection(population, fitness_values, num_survivors):\n",
    "    total_fitness = sum(fitness_values)\n",
    "    probabilities = [fitness / total_fitness for fitness in fitness_values]\n",
    "    survivors = random.choices(population, probabilities, k=num_survivors)\n",
    "    return survivors"
   ]
  },
  {
   "cell_type": "code",
   "execution_count": 7,
   "id": "ebd3157b",
   "metadata": {},
   "outputs": [],
   "source": [
    "def check_constraints(solution, N):\n",
    "    # one queen in each row and column\n",
    "    if len(set(solution)) != N:\n",
    "        return False\n",
    "    # two queens shouldn't be placed in the same diagonal\n",
    "    for i in range(N):\n",
    "        for j in range(i + 1, N):\n",
    "            if abs(i - j) == abs(solution[i] - solution[j]):\n",
    "                return False\n",
    "    return True"
   ]
  },
  {
   "cell_type": "code",
   "execution_count": 57,
   "id": "e2bda975",
   "metadata": {},
   "outputs": [
    {
     "name": "stdout",
     "output_type": "stream",
     "text": [
      "[1, 3, 5, 2, 4]\n"
     ]
    }
   ],
   "source": [
    "def genetic_algorithm(population_size, chromosome_length, generations, mutation_rate, weights):\n",
    "    # initialize the population\n",
    "    population = initialize_population(population_size, chromosome_length) \n",
    "    best_solution = None\n",
    "    best_fitness = -1\n",
    "\n",
    "    for x in range(generations):\n",
    "        # Fitness evaluation\n",
    "        fitness_scores = []\n",
    "        for i in range(len(population)):\n",
    "            fitness_scores.append(evaluate_fitness(population[i], weights))\n",
    "        \n",
    "        # Selection\n",
    "        selected_population = tournament_selection(population, fitness_scores, 5)\n",
    "        # Crossover\n",
    "        offsprings = []\n",
    "        for i in range(0, len(selected_population), 2):\n",
    "            parent1 = selected_population[i]\n",
    "            parent2 = selected_population[i + 1]\n",
    "            child1, child2 = crossover(parent1, parent2)\n",
    "            offsprings.extend([child1, child2])\n",
    "\n",
    "        # Mutation\n",
    "        mutated_offspring_population = [mutation(individual, mutation_rate) for individual in offsprings]\n",
    "        \n",
    "        # New Fitness\n",
    "        new_fitness = []\n",
    "        for individual in mutated_offspring_population:\n",
    "            fitness = evaluate_fitness(individual, weights)\n",
    "            new_fitness.append(fitness)\n",
    "\n",
    "        # Replace the population with the new generation\n",
    "        population = selection(mutated_offspring_population, new_fitness, population_size)\n",
    "        \n",
    "        best_index = new_fitness.index(max(new_fitness))\n",
    "        if new_fitness[best_index] > best_fitness:\n",
    "            if check_constraints(population[best_index], chromosome_length):\n",
    "                best_fitness = new_fitness[best_index]\n",
    "                best_solution = population[best_index]\n",
    "        # Termination condition\n",
    "        if best_fitness == sum([weights[i][i] for i in range(chromosome_length)]):\n",
    "            print(best_solution)\n",
    "            return 1 \n",
    "    return -1\n",
    "\n",
    "# Test the complete genetic algorithm\n",
    "population_size = 16\n",
    "N = 5\n",
    "generations = 1000\n",
    "mutation_rate = 0.3\n",
    "weights = []\n",
    "for _ in range(N):\n",
    "    weights.append(random.choices(range(1, N + 1), k=N))\n",
    "\n",
    "if genetic_algorithm(population_size, N, generations, mutation_rate, weights) == -1:\n",
    "    print(\"no solution\")"
   ]
  },
  {
   "cell_type": "code",
   "execution_count": null,
   "id": "2a01c52f",
   "metadata": {},
   "outputs": [],
   "source": []
  }
 ],
 "metadata": {
  "kernelspec": {
   "display_name": "Python 3 (ipykernel)",
   "language": "python",
   "name": "python3"
  },
  "language_info": {
   "codemirror_mode": {
    "name": "ipython",
    "version": 3
   },
   "file_extension": ".py",
   "mimetype": "text/x-python",
   "name": "python",
   "nbconvert_exporter": "python",
   "pygments_lexer": "ipython3",
   "version": "3.9.16"
  }
 },
 "nbformat": 4,
 "nbformat_minor": 5
}
