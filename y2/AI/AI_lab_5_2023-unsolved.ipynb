{
 "cells": [
  {
   "cell_type": "markdown",
   "id": "b8210b19",
   "metadata": {},
   "source": [
    "## A.I. Assignment 5\n",
    "\n",
    "## Learning Goals\n",
    "\n",
    "By the end of this lab, you should be able to:\n",
    "* Get more familiar with tensors in pytorch \n",
    "* Create a simple multilayer perceptron model with pytorch\n",
    "* Visualise the parameters\n",
    "\n",
    "\n",
    "### Task\n",
    "\n",
    "Build a fully connected feed forward network that adds two bits. Determine the a propper achitecture for this network (what database you use for this problem? how many layers? how many neurons on each layer? what is the activation function? what is the loss function? etc)\n",
    "\n",
    "Create at least 3 such networks and compare their performance (how accurate they are?, how farst they are trained to get at 1 accuracy?)\n",
    "\n",
    "Display for the best one the weights for each layer.\n"
   ]
  },
  {
   "cell_type": "code",
   "execution_count": 1,
   "id": "e3614e5f",
   "metadata": {},
   "outputs": [],
   "source": [
    "import torch\n",
    "import torch.nn as nn\n",
    "from collections import OrderedDict\n"
   ]
  },
  {
   "cell_type": "code",
   "execution_count": 133,
   "id": "5ee7e7d7",
   "metadata": {},
   "outputs": [],
   "source": [
    "# your code here\n",
    "#model1 = nn.Sequential(OrderedDict([\n",
    "#    ('hidden', nn.\n",
    "#]))\n",
    "model1 = nn.Sequential(OrderedDict([\n",
    "    ('hidden1', nn.Linear(2, 3)),\n",
    "    ('sigmoid1', nn.Sigmoid()),\n",
    "    ('hidden2', nn.Linear(3, 2)),\n",
    "    ('sigmoid2', nn.Sigmoid())\n",
    "]))\n",
    "\n",
    "model2 = nn.Sequential(OrderedDict([\n",
    "    ('hidden1', nn.Linear(2,2)),\n",
    "    ('sigmoid1', nn.Sigmoid()),\n",
    "    ('hidden2', nn.Linear(2,1)),\n",
    "    ('relu1', nn.ReLU()),\n",
    "]))"
   ]
  },
  {
   "cell_type": "code",
   "execution_count": 134,
   "id": "665ae958",
   "metadata": {},
   "outputs": [
    {
     "name": "stdout",
     "output_type": "stream",
     "text": [
      "Sequential(\n",
      "  (hidden1): Linear(in_features=2, out_features=3, bias=True)\n",
      "  (sigmoid1): Sigmoid()\n",
      "  (hidden2): Linear(in_features=3, out_features=2, bias=True)\n",
      "  (sigmoid2): Sigmoid()\n",
      ")\n",
      "Sequential(\n",
      "  (hidden1): Linear(in_features=2, out_features=2, bias=True)\n",
      "  (sigmoid1): Sigmoid()\n",
      "  (hidden2): Linear(in_features=2, out_features=1, bias=True)\n",
      "  (relu1): ReLU()\n",
      ")\n"
     ]
    }
   ],
   "source": [
    "print(model1)\n",
    "print(model2)"
   ]
  },
  {
   "cell_type": "code",
   "execution_count": 135,
   "id": "e26f0d3e",
   "metadata": {},
   "outputs": [
    {
     "name": "stdout",
     "output_type": "stream",
     "text": [
      "tensor([[0., 0.],\n",
      "        [0., 1.],\n",
      "        [1., 0.],\n",
      "        [1., 1.]])\n"
     ]
    }
   ],
   "source": [
    "# your code here\n",
    "#data_in = torch.tensor( ...\n",
    "data_in = torch.tensor([[0, 0], [0, 1], [1, 0], [1, 1]], dtype=torch.float)\n",
    "print(data_in)"
   ]
  },
  {
   "cell_type": "code",
   "execution_count": 136,
   "id": "4fb16bbc",
   "metadata": {},
   "outputs": [
    {
     "name": "stdout",
     "output_type": "stream",
     "text": [
      "tensor([[0., 0.],\n",
      "        [0., 1.],\n",
      "        [0., 1.],\n",
      "        [1., 0.]])\n"
     ]
    }
   ],
   "source": [
    "# your code here\n",
    "# data_target = torch.tensor( ...\n",
    "data_target = torch.tensor([[0, 0], [0, 1], [0, 1], [1, 0]], dtype=torch.float)\n",
    "print(data_target)"
   ]
  },
  {
   "cell_type": "code",
   "execution_count": 137,
   "id": "69d920ed",
   "metadata": {},
   "outputs": [],
   "source": [
    "# your code here\n",
    "# criterion = \n",
    "# optimizer = \n",
    "criterion = nn.MSELoss()\n",
    "optimizer = torch.optim.SGD(model1.parameters(), lr=0.3)\n",
    "\n",
    "criterion2 = nn.BCELoss()\n",
    "optimizer2 = torch.optim.SGD(model2.parameters(), lr=0.1)"
   ]
  },
  {
   "cell_type": "code",
   "execution_count": 138,
   "id": "cde91f6f",
   "metadata": {},
   "outputs": [
    {
     "data": {
      "text/plain": [
       "'\\nfor epoch in range(10000):\\n    optimizer2.zero_grad()\\n    output = model2(data_in)\\n    loss = criterion2(output, data_target)\\n    loss.backward()\\n    optimizer2.step()\\n'"
      ]
     },
     "execution_count": 138,
     "metadata": {},
     "output_type": "execute_result"
    }
   ],
   "source": [
    "# your code here\n",
    "# Train the model\n",
    "for epoch in range(100000):\n",
    "    optimizer.zero_grad()\n",
    "    output = model1(data_in)\n",
    "    loss = criterion(output, data_target)\n",
    "    loss.backward()\n",
    "    optimizer.step()\n",
    "\"\"\"\n",
    "for epoch in range(10000):\n",
    "    optimizer2.zero_grad()\n",
    "    output = model2(data_in)\n",
    "    loss = criterion2(output, data_target)\n",
    "    loss.backward()\n",
    "    optimizer2.step()\n",
    "\"\"\""
   ]
  },
  {
   "cell_type": "code",
   "execution_count": 139,
   "id": "dff3ec1a",
   "metadata": {},
   "outputs": [
    {
     "name": "stdout",
     "output_type": "stream",
     "text": [
      "Model1 - Loss: 0.00016659111133776605, Accuracy: 1.0\n"
     ]
    },
    {
     "data": {
      "text/plain": [
       "'\\nwith torch.no_grad():\\n    output = model2(data_in)\\n    loss = criterion2(output, data_target)\\n    acc = ((output> 0.5) == data_target).all(dim=1).float().mean()\\nprint(\"Model2 - Loss: {}, Accuracy: {}\".format(loss, acc))\\n'"
      ]
     },
     "execution_count": 139,
     "metadata": {},
     "output_type": "execute_result"
    }
   ],
   "source": [
    "# your code here\n",
    "# visualize the resuts\n",
    "with torch.no_grad():\n",
    "    output = model1(data_in)\n",
    "    loss = criterion(output, data_target)\n",
    "    acc = ((output> 0.5) == data_target).float().mean()\n",
    "print(\"Model1 - Loss: {}, Accuracy: {}\".format(loss, acc))\n",
    "\n",
    "\"\"\"\n",
    "with torch.no_grad():\n",
    "    output = model2(data_in)\n",
    "    loss = criterion2(output, data_target)\n",
    "    acc = ((output> 0.5) == data_target).all(dim=1).float().mean()\n",
    "print(\"Model2 - Loss: {}, Accuracy: {}\".format(loss, acc))\n",
    "\"\"\""
   ]
  },
  {
   "cell_type": "code",
   "execution_count": 140,
   "id": "c1a7518b",
   "metadata": {},
   "outputs": [
    {
     "name": "stdout",
     "output_type": "stream",
     "text": [
      "Weights Model1:\n",
      "hidden1.weight Parameter containing:\n",
      "tensor([[ 0.5842, -0.1072],\n",
      "        [ 6.5086,  6.3663],\n",
      "        [-6.0663, -6.1794]], requires_grad=True)\n",
      "hidden2.weight Parameter containing:\n",
      "tensor([[ 0.6074,  3.6929, -9.8531],\n",
      "        [-6.7119,  9.5158,  9.2748]], requires_grad=True)\n"
     ]
    },
    {
     "data": {
      "text/plain": [
       "'\\nprint(\"Weights Model2:\")\\nfor name, param in model2.named_parameters():\\n    if \\'weight\\' in name:\\n        print(name, param)\\n'"
      ]
     },
     "execution_count": 140,
     "metadata": {},
     "output_type": "execute_result"
    }
   ],
   "source": [
    "# your code here\n",
    "# print model wights\n",
    "print(\"Weights Model1:\")\n",
    "for name, param in model1.named_parameters():\n",
    "    if 'weight' in name:\n",
    "        print(name, param)\n",
    "\"\"\"\n",
    "print(\"Weights Model2:\")\n",
    "for name, param in model2.named_parameters():\n",
    "    if 'weight' in name:\n",
    "        print(name, param)\n",
    "\"\"\""
   ]
  },
  {
   "cell_type": "code",
   "execution_count": null,
   "id": "4cdf09ba",
   "metadata": {},
   "outputs": [],
   "source": []
  },
  {
   "cell_type": "code",
   "execution_count": null,
   "id": "d0bea66c",
   "metadata": {},
   "outputs": [],
   "source": []
  },
  {
   "cell_type": "code",
   "execution_count": null,
   "id": "e29c65a2",
   "metadata": {},
   "outputs": [],
   "source": []
  }
 ],
 "metadata": {
  "kernelspec": {
   "display_name": "Python 3 (ipykernel)",
   "language": "python",
   "name": "python3"
  },
  "language_info": {
   "codemirror_mode": {
    "name": "ipython",
    "version": 3
   },
   "file_extension": ".py",
   "mimetype": "text/x-python",
   "name": "python",
   "nbconvert_exporter": "python",
   "pygments_lexer": "ipython3",
   "version": "3.9.16"
  }
 },
 "nbformat": 4,
 "nbformat_minor": 5
}
